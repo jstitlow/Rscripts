{
 "cells": [
  {
   "cell_type": "code",
   "execution_count": null,
   "metadata": {
    "collapsed": true
   },
   "outputs": [],
   "source": [
    "# Notes on how to run the statistical analysis code \n",
    "\n",
    "# The test dataset is called 'filename.csv'\n",
    "# 'filename.csv' has measurements (Y) for different variables (X)\n",
    "# The first column (X1) has 2 groups (independent variables)\n",
    "# The second column (Y1) has measurements from 2 variables, to demonstrate t-tests\n",
    "# The third column (X2) has 3 groups (independent variables)\n",
    "# The fourth column (Y2) has measurements from 3 variables, to demonstrate ANOVAs\n",
    "\n",
    "# Here are the steps to use this code for your data:\n",
    "# -Create .csv file in tall format\n",
    "# -Label the column with dependent variable Y (or Y1 if more than two independent variables)\n",
    "# -Label the column with independent variable X (or X1 if more than two dependent variables)\n",
    "# -Substitute \"~/filename.csv\" with the pathname to your data file\n",
    "# -Run cell (Shift + Enter)\n",
    "\n",
    "# Code for plotting the data with ggplot2 is provided at the end of the notebook"
   ]
  },
  {
   "cell_type": "code",
   "execution_count": 3,
   "metadata": {
    "collapsed": false
   },
   "outputs": [
    {
     "data": {
      "text/plain": [
       "\n",
       "\tF test to compare two variances\n",
       "\n",
       "data:  Y1 by X1\n",
       "F = 0.50192, num df = 12, denom df = 23, p-value = 0.2155\n",
       "alternative hypothesis: true ratio of variances is not equal to 1\n",
       "95 percent confidence interval:\n",
       " 0.1953053 1.5211167\n",
       "sample estimates:\n",
       "ratio of variances \n",
       "         0.5019233 \n"
      ]
     },
     "metadata": {},
     "output_type": "display_data"
    },
    {
     "data": {
      "text/html": [
       "<table>\n",
       "<thead><tr><th scope=col>X1</th><th scope=col>N</th><th scope=col>mean</th><th scope=col>sd</th><th scope=col>se</th></tr></thead>\n",
       "<tbody>\n",
       "\t<tr><td>        </td><td>18      </td><td>      NA</td><td>      NA</td><td>      NA</td></tr>\n",
       "\t<tr><td>Control </td><td>13      </td><td>4.600343</td><td>5.796878</td><td>1.607765</td></tr>\n",
       "\t<tr><td>Stim    </td><td>24      </td><td>5.749513</td><td>8.182302</td><td>1.670205</td></tr>\n",
       "</tbody>\n",
       "</table>\n"
      ],
      "text/latex": [
       "\\begin{tabular}{r|lllll}\n",
       " X1 & N & mean & sd & se\\\\\n",
       "\\hline\n",
       "\t          & 18       &       NA &       NA &       NA\\\\\n",
       "\t Control  & 13       & 4.600343 & 5.796878 & 1.607765\\\\\n",
       "\t Stim     & 24       & 5.749513 & 8.182302 & 1.670205\\\\\n",
       "\\end{tabular}\n"
      ],
      "text/markdown": [
       "\n",
       "X1 | N | mean | sd | se | \n",
       "|---|---|---|\n",
       "|          | 18       |       NA |       NA |       NA | \n",
       "| Control  | 13       | 4.600343 | 5.796878 | 1.607765 | \n",
       "| Stim     | 24       | 5.749513 | 8.182302 | 1.670205 | \n",
       "\n",
       "\n"
      ],
      "text/plain": [
       "  X1      N  mean     sd       se      \n",
       "1         18       NA       NA       NA\n",
       "2 Control 13 4.600343 5.796878 1.607765\n",
       "3 Stim    24 5.749513 8.182302 1.670205"
      ]
     },
     "metadata": {},
     "output_type": "display_data"
    }
   ],
   "source": [
    "# F test\n",
    "# Compare the variances of two populations\n",
    "\n",
    "# Load data (csv file in tall format)\n",
    "stats <- read.csv(\"~/filename.csv\")\n",
    "\n",
    "# Define variables \n",
    "attach(stats)\n",
    "\n",
    "# Run F test \n",
    "var.test(Y1 ~ X1, data = stats)\n",
    "\n",
    "# Calculate descriptive statistics\n",
    "library(plyr)\n",
    "\n",
    "cdata <- ddply(stats, c(\"X1\"), summarise,\n",
    "N    = length(Y1),\n",
    "mean = mean(Y1),\n",
    "sd   = sd(Y1),\n",
    "se   = sd / sqrt(N)\n",
    ")\n",
    "cdata\n",
    "\n",
    "detach(stats)"
   ]
  },
  {
   "cell_type": "code",
   "execution_count": 2,
   "metadata": {
    "collapsed": false
   },
   "outputs": [
    {
     "data": {
      "text/plain": [
       "\n",
       "\tShapiro-Wilk normality test\n",
       "\n",
       "data:  Y1\n",
       "W = 0.73557, p-value = 8.326e-07\n"
      ]
     },
     "metadata": {},
     "output_type": "display_data"
    },
    {
     "data": {
      "text/html": [
       "<table>\n",
       "<thead><tr><th scope=col>X1</th><th scope=col>N</th><th scope=col>mean</th><th scope=col>sd</th><th scope=col>se</th></tr></thead>\n",
       "<tbody>\n",
       "\t<tr><td>        </td><td>18      </td><td>      NA</td><td>      NA</td><td>      NA</td></tr>\n",
       "\t<tr><td>Control </td><td>13      </td><td>4.600343</td><td>5.796878</td><td>1.607765</td></tr>\n",
       "\t<tr><td>Stim    </td><td>24      </td><td>5.749513</td><td>8.182302</td><td>1.670205</td></tr>\n",
       "</tbody>\n",
       "</table>\n"
      ],
      "text/latex": [
       "\\begin{tabular}{r|lllll}\n",
       " X1 & N & mean & sd & se\\\\\n",
       "\\hline\n",
       "\t          & 18       &       NA &       NA &       NA\\\\\n",
       "\t Control  & 13       & 4.600343 & 5.796878 & 1.607765\\\\\n",
       "\t Stim     & 24       & 5.749513 & 8.182302 & 1.670205\\\\\n",
       "\\end{tabular}\n"
      ],
      "text/markdown": [
       "\n",
       "X1 | N | mean | sd | se | \n",
       "|---|---|---|\n",
       "|          | 18       |       NA |       NA |       NA | \n",
       "| Control  | 13       | 4.600343 | 5.796878 | 1.607765 | \n",
       "| Stim     | 24       | 5.749513 | 8.182302 | 1.670205 | \n",
       "\n",
       "\n"
      ],
      "text/plain": [
       "  X1      N  mean     sd       se      \n",
       "1         18       NA       NA       NA\n",
       "2 Control 13 4.600343 5.796878 1.607765\n",
       "3 Stim    24 5.749513 8.182302 1.670205"
      ]
     },
     "metadata": {},
     "output_type": "display_data"
    }
   ],
   "source": [
    "# Shapiro-Wilk test for normality\n",
    "\n",
    "\n",
    "# Load data (csv file in tall format)\n",
    "stats <- read.csv(\"~/filename.csv\")\n",
    "\n",
    "# Define variables \n",
    "attach(stats)\n",
    "\n",
    "# Run Shapiro-Wilk test \n",
    "# Note that this code tests normality of both groups combined\n",
    "# To test individual groups you must make separate columns and test individually\n",
    "\n",
    "shapiro.test(Y1) # p-value=1 normal / p-value=0 not normal\n",
    "\n",
    "\n",
    "# Calculate descriptive statistics\n",
    "library(plyr)\n",
    "\n",
    "cdata <- ddply(stats, c(\"X1\"), summarise,\n",
    "N    = length(Y1),\n",
    "mean = mean(Y1),\n",
    "sd   = sd(Y1),\n",
    "se   = sd / sqrt(N)\n",
    ")\n",
    "cdata\n",
    "\n",
    "detach(stats)"
   ]
  },
  {
   "cell_type": "code",
   "execution_count": 2,
   "metadata": {
    "collapsed": false
   },
   "outputs": [
    {
     "name": "stderr",
     "output_type": "stream",
     "text": [
      "Loading required package: splines\n",
      "Loading required package: RcmdrMisc\n",
      "Loading required package: car\n",
      "Loading required package: sandwich\n",
      "The Commander GUI is launched only in interactive sessions\n"
     ]
    },
    {
     "data": {
      "text/html": [
       "<table>\n",
       "<thead><tr><th></th><th scope=col>Df</th><th scope=col>F value</th><th scope=col>Pr(&gt;F)</th></tr></thead>\n",
       "<tbody>\n",
       "\t<tr><th scope=row>group</th><td> 1       </td><td>0.1571269</td><td>0.6942221</td></tr>\n",
       "\t<tr><th scope=row> </th><td>35       </td><td>       NA</td><td>       NA</td></tr>\n",
       "</tbody>\n",
       "</table>\n"
      ],
      "text/latex": [
       "\\begin{tabular}{r|lll}\n",
       "  & Df & F value & Pr(>F)\\\\\n",
       "\\hline\n",
       "\tgroup &  1        & 0.1571269 & 0.6942221\\\\\n",
       "\t  & 35        &        NA &        NA\\\\\n",
       "\\end{tabular}\n"
      ],
      "text/markdown": [
       "\n",
       "| <!--/--> | Df | F value | Pr(>F) | \n",
       "|---|---|\n",
       "| group |  1        | 0.1571269 | 0.6942221 | \n",
       "|   | 35        |        NA |        NA | \n",
       "\n",
       "\n"
      ],
      "text/plain": [
       "      Df F value   Pr(>F)   \n",
       "group  1 0.1571269 0.6942221\n",
       "      35        NA        NA"
      ]
     },
     "metadata": {},
     "output_type": "display_data"
    },
    {
     "data": {
      "text/html": [
       "<table>\n",
       "<thead><tr><th scope=col>X1</th><th scope=col>N</th><th scope=col>mean</th><th scope=col>sd</th><th scope=col>se</th></tr></thead>\n",
       "<tbody>\n",
       "\t<tr><td>        </td><td>18      </td><td>      NA</td><td>      NA</td><td>      NA</td></tr>\n",
       "\t<tr><td>Control </td><td>13      </td><td>4.600343</td><td>5.796878</td><td>1.607765</td></tr>\n",
       "\t<tr><td>Stim    </td><td>24      </td><td>5.749513</td><td>8.182302</td><td>1.670205</td></tr>\n",
       "</tbody>\n",
       "</table>\n"
      ],
      "text/latex": [
       "\\begin{tabular}{r|lllll}\n",
       " X1 & N & mean & sd & se\\\\\n",
       "\\hline\n",
       "\t          & 18       &       NA &       NA &       NA\\\\\n",
       "\t Control  & 13       & 4.600343 & 5.796878 & 1.607765\\\\\n",
       "\t Stim     & 24       & 5.749513 & 8.182302 & 1.670205\\\\\n",
       "\\end{tabular}\n"
      ],
      "text/markdown": [
       "\n",
       "X1 | N | mean | sd | se | \n",
       "|---|---|---|\n",
       "|          | 18       |       NA |       NA |       NA | \n",
       "| Control  | 13       | 4.600343 | 5.796878 | 1.607765 | \n",
       "| Stim     | 24       | 5.749513 | 8.182302 | 1.670205 | \n",
       "\n",
       "\n"
      ],
      "text/plain": [
       "  X1      N  mean     sd       se      \n",
       "1         18       NA       NA       NA\n",
       "2 Control 13 4.600343 5.796878 1.607765\n",
       "3 Stim    24 5.749513 8.182302 1.670205"
      ]
     },
     "metadata": {},
     "output_type": "display_data"
    }
   ],
   "source": [
    "# Levene's test \n",
    "# Compare the variances of k samples, where k can be more than two samples. \n",
    "# It’s an alternative to the Bartlett’s test that is less sensitive to departures from normality.\n",
    "\n",
    "library(Rcmdr)\n",
    "\n",
    "# Load data (csv file in tall format)\n",
    "stats <- read.csv(\"~/filename.csv\")\n",
    "\n",
    "# Define variables \n",
    "attach(stats)\n",
    "\n",
    "# Run Levene's test\n",
    "leveneTest(Y1, X1)\n",
    "\n",
    "# Calculate descriptive statistics\n",
    "library(plyr)\n",
    "\n",
    "cdata <- ddply(stats, c(\"X1\"), summarise,\n",
    "N    = length(Y1),\n",
    "mean = mean(Y1),\n",
    "sd   = sd(Y1),\n",
    "se   = sd / sqrt(N)\n",
    ")\n",
    "cdata\n",
    "\n",
    "detach(stats)"
   ]
  },
  {
   "cell_type": "code",
   "execution_count": 1,
   "metadata": {
    "collapsed": false
   },
   "outputs": [
    {
     "data": {
      "text/plain": [
       "\n",
       "\tWilcoxon rank sum test\n",
       "\n",
       "data:  Y1 by X1\n",
       "W = 141, p-value = 0.6489\n",
       "alternative hypothesis: true location shift is not equal to 0\n"
      ]
     },
     "metadata": {},
     "output_type": "display_data"
    },
    {
     "data": {
      "text/html": [
       "<table>\n",
       "<thead><tr><th scope=col>X1</th><th scope=col>N</th><th scope=col>mean</th><th scope=col>sd</th><th scope=col>se</th></tr></thead>\n",
       "<tbody>\n",
       "\t<tr><td>        </td><td>18      </td><td>      NA</td><td>      NA</td><td>      NA</td></tr>\n",
       "\t<tr><td>Control </td><td>13      </td><td>4.600343</td><td>5.796878</td><td>1.607765</td></tr>\n",
       "\t<tr><td>Stim    </td><td>24      </td><td>5.749513</td><td>8.182302</td><td>1.670205</td></tr>\n",
       "</tbody>\n",
       "</table>\n"
      ],
      "text/latex": [
       "\\begin{tabular}{r|lllll}\n",
       " X1 & N & mean & sd & se\\\\\n",
       "\\hline\n",
       "\t          & 18       &       NA &       NA &       NA\\\\\n",
       "\t Control  & 13       & 4.600343 & 5.796878 & 1.607765\\\\\n",
       "\t Stim     & 24       & 5.749513 & 8.182302 & 1.670205\\\\\n",
       "\\end{tabular}\n"
      ],
      "text/markdown": [
       "\n",
       "X1 | N | mean | sd | se | \n",
       "|---|---|---|\n",
       "|          | 18       |       NA |       NA |       NA | \n",
       "| Control  | 13       | 4.600343 | 5.796878 | 1.607765 | \n",
       "| Stim     | 24       | 5.749513 | 8.182302 | 1.670205 | \n",
       "\n",
       "\n"
      ],
      "text/plain": [
       "  X1      N  mean     sd       se      \n",
       "1         18       NA       NA       NA\n",
       "2 Control 13 4.600343 5.796878 1.607765\n",
       "3 Stim    24 5.749513 8.182302 1.670205"
      ]
     },
     "metadata": {},
     "output_type": "display_data"
    }
   ],
   "source": [
    "# Wilcox rank sum test\n",
    "# Nonparametric alternative to t-test\n",
    "\n",
    "# Load data (csv file in tall format)\n",
    "stats <- read.csv(\"~/filename.csv\")\n",
    "\n",
    "# Define variables \n",
    "attach(stats)\n",
    "\n",
    "# Run Wilcox rank sum test \n",
    "wilcox.test(Y1 ~ X1, data=stats)\n",
    "\n",
    "# Calculate descriptive statistics\n",
    "library(plyr)\n",
    "\n",
    "cdata <- ddply(stats, c(\"X1\"), summarise,\n",
    "N    = length(Y1),\n",
    "mean = mean(Y1),\n",
    "sd   = sd(Y1),\n",
    "se   = sd / sqrt(N)\n",
    ")\n",
    "cdata\n",
    "\n",
    "detach(stats)"
   ]
  },
  {
   "cell_type": "code",
   "execution_count": 4,
   "metadata": {
    "collapsed": false
   },
   "outputs": [
    {
     "data": {
      "text/plain": [
       "\n",
       "\tKruskal-Wallis rank sum test\n",
       "\n",
       "data:  Y1 by X1\n",
       "Kruskal-Wallis chi-squared = 0.22773, df = 1, p-value = 0.6332\n"
      ]
     },
     "metadata": {},
     "output_type": "display_data"
    },
    {
     "data": {
      "text/html": [
       "<table>\n",
       "<thead><tr><th scope=col>X2</th><th scope=col>N</th><th scope=col>mean</th><th scope=col>sd</th><th scope=col>se</th></tr></thead>\n",
       "<tbody>\n",
       "\t<tr><td>Control  </td><td>13       </td><td>4.600343 </td><td>5.7968781</td><td>1.6077647</td></tr>\n",
       "\t<tr><td>Stim     </td><td>24       </td><td>5.749513 </td><td>8.1823021</td><td>1.6702054</td></tr>\n",
       "\t<tr><td>Stim_Drug</td><td>18       </td><td>2.024242 </td><td>0.7606184</td><td>0.1792795</td></tr>\n",
       "</tbody>\n",
       "</table>\n"
      ],
      "text/latex": [
       "\\begin{tabular}{r|lllll}\n",
       " X2 & N & mean & sd & se\\\\\n",
       "\\hline\n",
       "\t Control   & 13        & 4.600343  & 5.7968781 & 1.6077647\\\\\n",
       "\t Stim      & 24        & 5.749513  & 8.1823021 & 1.6702054\\\\\n",
       "\t Stim\\_Drug & 18          & 2.024242    & 0.7606184   & 0.1792795  \\\\\n",
       "\\end{tabular}\n"
      ],
      "text/markdown": [
       "\n",
       "X2 | N | mean | sd | se | \n",
       "|---|---|---|\n",
       "| Control   | 13        | 4.600343  | 5.7968781 | 1.6077647 | \n",
       "| Stim      | 24        | 5.749513  | 8.1823021 | 1.6702054 | \n",
       "| Stim_Drug | 18        | 2.024242  | 0.7606184 | 0.1792795 | \n",
       "\n",
       "\n"
      ],
      "text/plain": [
       "  X2        N  mean     sd        se       \n",
       "1 Control   13 4.600343 5.7968781 1.6077647\n",
       "2 Stim      24 5.749513 8.1823021 1.6702054\n",
       "3 Stim_Drug 18 2.024242 0.7606184 0.1792795"
      ]
     },
     "metadata": {},
     "output_type": "display_data"
    }
   ],
   "source": [
    "# Kruskal-Wallis test\n",
    "# Non-parametric alternative to ANOVA\n",
    "\n",
    "# Load data (csv file in tall format)\n",
    "stats <- read.csv(\"~/filename.csv\")\n",
    "\n",
    "# Define variables \n",
    "attach(stats)\n",
    "\n",
    "# Run Krusal-Wallis test\n",
    "kruskal.test(Y1 ~ X1, data=stats)\n",
    "\n",
    "# Calculate descriptive statistics\n",
    "library(plyr)\n",
    "\n",
    "cdata <- ddply(stats, c(\"X2\"), summarise,\n",
    "N    = length(Y2),\n",
    "mean = mean(Y2),\n",
    "sd   = sd(Y2),\n",
    "se   = sd / sqrt(N)\n",
    ")\n",
    "cdata\n",
    "\n",
    "detach(stats)"
   ]
  },
  {
   "cell_type": "code",
   "execution_count": 3,
   "metadata": {
    "collapsed": false
   },
   "outputs": [
    {
     "name": "stderr",
     "output_type": "stream",
     "text": [
      "## FSA v0.8.13. See citation('FSA') if used in publication.\n",
      "## Run fishR() for related website and fishR('IFAR') for related book.\n",
      "Dunn (1964) Kruskal-Wallis multiple comparison\n",
      "  p-values adjusted with the Bonferroni method.\n",
      "\n"
     ]
    },
    {
     "data": {
      "text/plain": [
       "           Comparison          Z   P.unadj P.adj\n",
       "1      Control - Stim -0.3654162 0.7148008     1\n",
       "2 Control - Stim_Drug -0.2242580 0.8225566     1\n",
       "3    Stim - Stim_Drug  0.1417980 0.8872395     1"
      ]
     },
     "metadata": {},
     "output_type": "display_data"
    },
    {
     "data": {
      "text/html": [
       "<table>\n",
       "<thead><tr><th scope=col>X2</th><th scope=col>N</th><th scope=col>mean</th><th scope=col>sd</th><th scope=col>se</th></tr></thead>\n",
       "<tbody>\n",
       "\t<tr><td>Control  </td><td>13       </td><td>4.600343 </td><td>5.7968781</td><td>1.6077647</td></tr>\n",
       "\t<tr><td>Stim     </td><td>24       </td><td>5.749513 </td><td>8.1823021</td><td>1.6702054</td></tr>\n",
       "\t<tr><td>Stim_Drug</td><td>18       </td><td>2.024242 </td><td>0.7606184</td><td>0.1792795</td></tr>\n",
       "</tbody>\n",
       "</table>\n"
      ],
      "text/latex": [
       "\\begin{tabular}{r|lllll}\n",
       " X2 & N & mean & sd & se\\\\\n",
       "\\hline\n",
       "\t Control   & 13        & 4.600343  & 5.7968781 & 1.6077647\\\\\n",
       "\t Stim      & 24        & 5.749513  & 8.1823021 & 1.6702054\\\\\n",
       "\t Stim\\_Drug & 18          & 2.024242    & 0.7606184   & 0.1792795  \\\\\n",
       "\\end{tabular}\n"
      ],
      "text/markdown": [
       "\n",
       "X2 | N | mean | sd | se | \n",
       "|---|---|---|\n",
       "| Control   | 13        | 4.600343  | 5.7968781 | 1.6077647 | \n",
       "| Stim      | 24        | 5.749513  | 8.1823021 | 1.6702054 | \n",
       "| Stim_Drug | 18        | 2.024242  | 0.7606184 | 0.1792795 | \n",
       "\n",
       "\n"
      ],
      "text/plain": [
       "  X2        N  mean     sd        se       \n",
       "1 Control   13 4.600343 5.7968781 1.6077647\n",
       "2 Stim      24 5.749513 8.1823021 1.6702054\n",
       "3 Stim_Drug 18 2.024242 0.7606184 0.1792795"
      ]
     },
     "metadata": {},
     "output_type": "display_data"
    }
   ],
   "source": [
    "# Dunn posthoc test\n",
    "# For multiple comparisons of the Kruskal-Wallis test\n",
    "\n",
    "library(FSA)\n",
    "# https://cran.r-project.org/web/packages/dunn.test/dunn.test.pdf\n",
    "\n",
    "# Load data (csv file in tall format)\n",
    "stats <- read.csv(\"~/filename.csv\")\n",
    "\n",
    "# Define variables \n",
    "attach(stats)\n",
    "\n",
    "dunnTest(Y2 ~ X2,\n",
    "              data=stats,\n",
    "              method=\"bonferroni\")    # Can adjust p-values; \n",
    "                              # See ?p.adjust for options \n",
    "\n",
    "# Calculate descriptive statistics\n",
    "library(plyr)\n",
    "\n",
    "cdata <- ddply(stats, c(\"X2\"), summarise,\n",
    "N    = length(Y2),\n",
    "mean = mean(Y2),\n",
    "sd   = sd(Y2),\n",
    "se   = sd / sqrt(N)\n",
    ")\n",
    "cdata\n",
    "\n",
    "detach(stats)"
   ]
  },
  {
   "cell_type": "code",
   "execution_count": 2,
   "metadata": {
    "collapsed": false
   },
   "outputs": [
    {
     "data": {
      "text/plain": [
       "\n",
       "\tWelch Two Sample t-test\n",
       "\n",
       "data:  Y1 by X1\n",
       "t = -0.4957, df = 32.269, p-value = 0.6235\n",
       "alternative hypothesis: true difference in means is not equal to 0\n",
       "95 percent confidence interval:\n",
       " -5.869843  3.571502\n",
       "sample estimates:\n",
       "mean in group Control    mean in group Stim \n",
       "             4.600343              5.749513 \n"
      ]
     },
     "metadata": {},
     "output_type": "display_data"
    },
    {
     "data": {
      "text/html": [
       "<table>\n",
       "<thead><tr><th scope=col>X1</th><th scope=col>N</th><th scope=col>mean</th><th scope=col>sd</th><th scope=col>se</th></tr></thead>\n",
       "<tbody>\n",
       "\t<tr><td>        </td><td>18      </td><td>      NA</td><td>      NA</td><td>      NA</td></tr>\n",
       "\t<tr><td>Control </td><td>13      </td><td>4.600343</td><td>5.796878</td><td>1.607765</td></tr>\n",
       "\t<tr><td>Stim    </td><td>24      </td><td>5.749513</td><td>8.182302</td><td>1.670205</td></tr>\n",
       "</tbody>\n",
       "</table>\n"
      ],
      "text/latex": [
       "\\begin{tabular}{r|lllll}\n",
       " X1 & N & mean & sd & se\\\\\n",
       "\\hline\n",
       "\t          & 18       &       NA &       NA &       NA\\\\\n",
       "\t Control  & 13       & 4.600343 & 5.796878 & 1.607765\\\\\n",
       "\t Stim     & 24       & 5.749513 & 8.182302 & 1.670205\\\\\n",
       "\\end{tabular}\n"
      ],
      "text/markdown": [
       "\n",
       "X1 | N | mean | sd | se | \n",
       "|---|---|---|\n",
       "|          | 18       |       NA |       NA |       NA | \n",
       "| Control  | 13       | 4.600343 | 5.796878 | 1.607765 | \n",
       "| Stim     | 24       | 5.749513 | 8.182302 | 1.670205 | \n",
       "\n",
       "\n"
      ],
      "text/plain": [
       "  X1      N  mean     sd       se      \n",
       "1         18       NA       NA       NA\n",
       "2 Control 13 4.600343 5.796878 1.607765\n",
       "3 Stim    24 5.749513 8.182302 1.670205"
      ]
     },
     "metadata": {},
     "output_type": "display_data"
    }
   ],
   "source": [
    "# Students t-test\n",
    "\n",
    "# Load data (csv file in tall format)\n",
    "stats <- read.csv(\"~/filename.csv\")\n",
    "\n",
    "# Define variables \n",
    "attach(stats)\n",
    "\n",
    "# Run t-Test\n",
    "t.test(Y1 ~ X1, stats)\n",
    "\n",
    "# Calculate descriptive statistics\n",
    "library(plyr)\n",
    "cdata <- ddply(stats, c(\"X1\"), summarise,\n",
    "N    = length(Y1),\n",
    "mean = mean(Y1),\n",
    "sd   = sd(Y1),\n",
    "se   = sd / sqrt(N)\n",
    ")\n",
    "cdata\n",
    "\n",
    "detach(stats)"
   ]
  },
  {
   "cell_type": "code",
   "execution_count": 1,
   "metadata": {
    "collapsed": false
   },
   "outputs": [
    {
     "data": {
      "text/plain": [
       "Call:\n",
       "   aov(formula = Y2 ~ X2)\n",
       "\n",
       "Terms:\n",
       "                       X2 Residuals\n",
       "Sum of Squares   144.7284 1952.9323\n",
       "Deg. of Freedom         2        52\n",
       "\n",
       "Residual standard error: 6.128327\n",
       "Estimated effects may be unbalanced"
      ]
     },
     "metadata": {},
     "output_type": "display_data"
    },
    {
     "data": {
      "text/plain": [
       "            Df Sum Sq Mean Sq F value Pr(>F)\n",
       "X2           2  144.7   72.36   1.927  0.156\n",
       "Residuals   52 1952.9   37.56               "
      ]
     },
     "metadata": {},
     "output_type": "display_data"
    },
    {
     "data": {
      "text/plain": [
       "  Tukey multiple comparisons of means\n",
       "    95% family-wise confidence level\n",
       "\n",
       "Fit: aov(formula = Y2 ~ X2)\n",
       "\n",
       "$X2\n",
       "                       diff       lwr      upr     p adj\n",
       "Stim-Control       1.149170 -3.942379 6.240719 0.8497122\n",
       "Stim_Drug-Control -2.576101 -7.957551 2.805349 0.4852147\n",
       "Stim_Drug-Stim    -3.725271 -8.335359 0.884816 0.1351965\n"
      ]
     },
     "metadata": {},
     "output_type": "display_data"
    },
    {
     "data": {
      "text/html": [
       "<table>\n",
       "<thead><tr><th scope=col>X2</th><th scope=col>N</th><th scope=col>mean</th><th scope=col>sd</th><th scope=col>se</th></tr></thead>\n",
       "<tbody>\n",
       "\t<tr><td>Control  </td><td>13       </td><td>4.600343 </td><td>5.7968781</td><td>1.6077647</td></tr>\n",
       "\t<tr><td>Stim     </td><td>24       </td><td>5.749513 </td><td>8.1823021</td><td>1.6702054</td></tr>\n",
       "\t<tr><td>Stim_Drug</td><td>18       </td><td>2.024242 </td><td>0.7606184</td><td>0.1792795</td></tr>\n",
       "</tbody>\n",
       "</table>\n"
      ],
      "text/latex": [
       "\\begin{tabular}{r|lllll}\n",
       " X2 & N & mean & sd & se\\\\\n",
       "\\hline\n",
       "\t Control   & 13        & 4.600343  & 5.7968781 & 1.6077647\\\\\n",
       "\t Stim      & 24        & 5.749513  & 8.1823021 & 1.6702054\\\\\n",
       "\t Stim\\_Drug & 18          & 2.024242    & 0.7606184   & 0.1792795  \\\\\n",
       "\\end{tabular}\n"
      ],
      "text/markdown": [
       "\n",
       "X2 | N | mean | sd | se | \n",
       "|---|---|---|\n",
       "| Control   | 13        | 4.600343  | 5.7968781 | 1.6077647 | \n",
       "| Stim      | 24        | 5.749513  | 8.1823021 | 1.6702054 | \n",
       "| Stim_Drug | 18        | 2.024242  | 0.7606184 | 0.1792795 | \n",
       "\n",
       "\n"
      ],
      "text/plain": [
       "  X2        N  mean     sd        se       \n",
       "1 Control   13 4.600343 5.7968781 1.6077647\n",
       "2 Stim      24 5.749513 8.1823021 1.6702054\n",
       "3 Stim_Drug 18 2.024242 0.7606184 0.1792795"
      ]
     },
     "metadata": {},
     "output_type": "display_data"
    }
   ],
   "source": [
    "# One-way ANOVA with Tukey Post-hoc test\n",
    "\n",
    "# Load data (csv file in tall format)\n",
    "stats <- read.csv(\"~/filename.csv\")\n",
    "\n",
    "# Define variables\n",
    "attach(stats)\n",
    "\n",
    "# Run one-way ANOVA on columns ()\n",
    "ANOVA.aov = aov(Y2 ~ X2)\n",
    "\n",
    "# View results from ANOVA\n",
    "ANOVA.aov\n",
    "\n",
    "# View more results from ANOVA\n",
    "summary(ANOVA.aov)\n",
    "\n",
    "# Perform posthoc (Tukey)\n",
    "TukeyHSD(ANOVA.aov)\n",
    "\n",
    "# Calculate descriptive statistics\n",
    "library(plyr)\n",
    "\n",
    "cdata <- ddply(stats, c(\"X2\"), summarise,\n",
    "N    = length(Y2),\n",
    "mean = mean(Y2),\n",
    "sd   = sd(Y2),\n",
    "se   = sd / sqrt(N)\n",
    ")\n",
    "cdata\n",
    "\n",
    "detach(stats)"
   ]
  },
  {
   "cell_type": "code",
   "execution_count": 8,
   "metadata": {
    "collapsed": false
   },
   "outputs": [
    {
     "data": {
      "text/html": [
       "<table>\n",
       "<thead><tr><th scope=col>X2</th><th scope=col>N</th><th scope=col>mean</th><th scope=col>sd</th><th scope=col>se</th></tr></thead>\n",
       "<tbody>\n",
       "\t<tr><td>Control  </td><td>13       </td><td>4.600343 </td><td>5.7968781</td><td>1.6077647</td></tr>\n",
       "\t<tr><td>Stim     </td><td>24       </td><td>5.749513 </td><td>8.1823021</td><td>1.6702054</td></tr>\n",
       "\t<tr><td>Stim+Drug</td><td>18       </td><td>2.024242 </td><td>0.7606184</td><td>0.1792795</td></tr>\n",
       "</tbody>\n",
       "</table>\n"
      ],
      "text/latex": [
       "\\begin{tabular}{r|lllll}\n",
       " X2 & N & mean & sd & se\\\\\n",
       "\\hline\n",
       "\t Control   & 13        & 4.600343  & 5.7968781 & 1.6077647\\\\\n",
       "\t Stim      & 24        & 5.749513  & 8.1823021 & 1.6702054\\\\\n",
       "\t Stim+Drug & 18        & 2.024242  & 0.7606184 & 0.1792795\\\\\n",
       "\\end{tabular}\n"
      ],
      "text/markdown": [
       "\n",
       "X2 | N | mean | sd | se | \n",
       "|---|---|---|\n",
       "| Control   | 13        | 4.600343  | 5.7968781 | 1.6077647 | \n",
       "| Stim      | 24        | 5.749513  | 8.1823021 | 1.6702054 | \n",
       "| Stim+Drug | 18        | 2.024242  | 0.7606184 | 0.1792795 | \n",
       "\n",
       "\n"
      ],
      "text/plain": [
       "  X2        N  mean     sd        se       \n",
       "1 Control   13 4.600343 5.7968781 1.6077647\n",
       "2 Stim      24 5.749513 8.1823021 1.6702054\n",
       "3 Stim+Drug 18 2.024242 0.7606184 0.1792795"
      ]
     },
     "metadata": {},
     "output_type": "display_data"
    },
    {
     "name": "stderr",
     "output_type": "stream",
     "text": [
      "Warning message:\n",
      "“Ignoring unknown parameters: binwidth, bins, pad”"
     ]
    },
    {
     "data": {},
     "metadata": {},
     "output_type": "display_data"
    },
    {
     "data": {
      "image/png": "iVBORw0KGgoAAAANSUhEUgAAAPAAAAFoCAYAAABpF3YIAAAEDWlDQ1BJQ0MgUHJvZmlsZQAA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\nRwQcROD/AQzuYa2s7RkoAAAAAElFTkSuQmCC",
      "text/plain": [
       "plot without title"
      ]
     },
     "metadata": {},
     "output_type": "display_data"
    }
   ],
   "source": [
    "# Plot data as histogram with mean +/- sem \n",
    "\n",
    "library(ggplot2)\n",
    "library(repr)\n",
    "\n",
    "\n",
    "# Load data (csv file in tall format)\n",
    "stats <- read.csv(\"~/filename.csv\")\n",
    "\n",
    "# Define variables\n",
    "attach(stats)\n",
    "\n",
    "# Adjust plot size\n",
    "options(repr.plot.width=2, repr.plot.height=3)\n",
    "\n",
    "# Calculate descriptive statistics\n",
    "library(plyr)\n",
    "\n",
    "cdata <- ddply(stats, c(\"X2\"), summarise,\n",
    "N    = length(Y2),\n",
    "mean = mean(Y2),\n",
    "sd   = sd(Y2),\n",
    "se   = sd / sqrt(N)\n",
    ")\n",
    "cdata\n",
    "\n",
    "# Generate histogram\n",
    "ggplot(cdata, aes(x=X2, y=mean, group=1, width = 0.5)) +\n",
    "    geom_histogram(fill=\"#0072B2\", stat=\"identity\")+\n",
    "    geom_errorbar(aes(ymin=mean-se, ymax=mean+se),\n",
    "        size=.5,    # Thinner lines\n",
    "        width=.2,\n",
    "        position=position_dodge(.9)) +\n",
    "    ylim(0,10) +   \n",
    "    #xlab(\"Condition\") +\n",
    "    ylab(\"Measurement\") +\n",
    "    #ggtitle(\"The Effect of Vitamin C on\\nTooth Growth in Guinea Pigs\") +\n",
    "    #scale_y_continuous(breaks=0:20*4) +\n",
    "    #theme_bw() +\n",
    "    theme(axis.text.x=element_text(size=12, angle=90, hjust=(1), vjust=(0.5), colour=\"black\", face=\"bold\"),\n",
    "           axis.text.y=element_text(size=12, colour=\"black\", face=\"bold\"),\n",
    "           axis.title=element_text(size=14, face=\"bold\"),\n",
    "           axis.title.x=element_blank(),\n",
    "           axis.ticks.x=element_blank())+\n",
    "    theme(panel.grid.major = element_blank(), panel.grid.minor = element_blank(),\n",
    "    panel.background = element_blank(), axis.line = element_line(colour = \"black\"))+\n",
    "    scale_x_discrete(limits=c(\"Control\", \"Stim\", \"Stim+Drug\"))\n",
    "\n",
    "detach(stats)"
   ]
  },
  {
   "cell_type": "code",
   "execution_count": 1,
   "metadata": {
    "collapsed": false
   },
   "outputs": [
    {
     "data": {
      "text/html": [
       "<table>\n",
       "<thead><tr><th scope=col>X2</th><th scope=col>N</th><th scope=col>mean</th><th scope=col>sd</th><th scope=col>se</th></tr></thead>\n",
       "<tbody>\n",
       "\t<tr><td>Control  </td><td>13       </td><td>4.600343 </td><td>5.7968781</td><td>1.6077647</td></tr>\n",
       "\t<tr><td>Stim     </td><td>24       </td><td>5.749513 </td><td>8.1823021</td><td>1.6702054</td></tr>\n",
       "\t<tr><td>Stim+Drug</td><td>18       </td><td>2.024242 </td><td>0.7606184</td><td>0.1792795</td></tr>\n",
       "</tbody>\n",
       "</table>\n"
      ],
      "text/latex": [
       "\\begin{tabular}{r|lllll}\n",
       " X2 & N & mean & sd & se\\\\\n",
       "\\hline\n",
       "\t Control   & 13        & 4.600343  & 5.7968781 & 1.6077647\\\\\n",
       "\t Stim      & 24        & 5.749513  & 8.1823021 & 1.6702054\\\\\n",
       "\t Stim+Drug & 18        & 2.024242  & 0.7606184 & 0.1792795\\\\\n",
       "\\end{tabular}\n"
      ],
      "text/markdown": [
       "\n",
       "X2 | N | mean | sd | se | \n",
       "|---|---|---|\n",
       "| Control   | 13        | 4.600343  | 5.7968781 | 1.6077647 | \n",
       "| Stim      | 24        | 5.749513  | 8.1823021 | 1.6702054 | \n",
       "| Stim+Drug | 18        | 2.024242  | 0.7606184 | 0.1792795 | \n",
       "\n",
       "\n"
      ],
      "text/plain": [
       "  X2        N  mean     sd        se       \n",
       "1 Control   13 4.600343 5.7968781 1.6077647\n",
       "2 Stim      24 5.749513 8.1823021 1.6702054\n",
       "3 Stim+Drug 18 2.024242 0.7606184 0.1792795"
      ]
     },
     "metadata": {},
     "output_type": "display_data"
    },
    {
     "data": {},
     "metadata": {},
     "output_type": "display_data"
    },
    {
     "data": {
      "image/png": "iVBORw0KGgoAAAANSUhEUgAAAPAAAAFoCAYAAABpF3YIAAAEDWlDQ1BJQ0MgUHJvZmlsZQAA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\nR8CZW9l4AAAAAElFTkSuQmCC",
      "text/plain": [
       "plot without title"
      ]
     },
     "metadata": {},
     "output_type": "display_data"
    }
   ],
   "source": [
    "# Plot every point in the data with mean +/- sem \n",
    "\n",
    "library(ggplot2)\n",
    "library(repr)\n",
    "\n",
    "\n",
    "# Load data (csv file in tall format)\n",
    "stats <- read.csv(\"~/filename.csv\")\n",
    "\n",
    "# Define variables\n",
    "attach(stats)\n",
    "\n",
    "# Adjust plot size\n",
    "options(repr.plot.width=2, repr.plot.height=3)\n",
    "\n",
    "# Calculate descriptive statistics\n",
    "library(plyr)\n",
    "\n",
    "cdata <- ddply(stats, c(\"X2\"), summarise,\n",
    "N    = length(Y2),\n",
    "mean = mean(Y2),\n",
    "sd   = sd(Y2),\n",
    "se   = sd / sqrt(N)\n",
    ")\n",
    "cdata\n",
    "\n",
    "# Generate graph\n",
    "p <- ggplot(stats, aes(X2,Y2)) + \n",
    "    geom_point(position = position_jitter(width = 0.2), shape=1, stroke=.5) +\n",
    "    stat_summary(fun.y = mean, fun.ymin = mean,fun.ymax = mean, geom = \"errorbar\", width = .5, colour = \"red\") + \n",
    "    stat_summary(fun.data = mean_se, geom = \"errorbar\", width = .25, colour = \"red\") +\n",
    "    #stat_summary(fun.data = median.quartile, geom = \"errorbar\", width = .25, colour = \"red\") +\n",
    "    #stat_summary(fun.y = mean, fun.ymin = mean, fun.ymax = mean, geom = \"errorbar\", width = 0.5, colour = \"red\") +\n",
    "    theme(panel.grid.major = element_blank(), panel.grid.minor = element_blank(),panel.background = element_blank(), axis.line = element_line(colour = \"black\")) +\n",
    "    theme(axis.text.x = element_text(size=12, colour = \"black\", face=\"bold\", vjust=(0.5), hjust=(1), angle=90),\n",
    "          axis.text.y = element_text(colour = \"black\", face=\"bold\"),\n",
    "          axis.title.x=element_blank(),\n",
    "          axis.title.y=element_text(size=12, face=\"bold\"),\n",
    "          axis.ticks.x=element_blank()) +\n",
    "    ylab(\"Measurement\") +\n",
    "    #ylab(expression(bold(D~(mu*m^2/s)))) + \n",
    "    #ylim(0.0, 1.5)+\n",
    "    scale_x_discrete(limits=c(\"Control\", \"Stim\", \"Stim+Drug\"))\n",
    "p\n",
    "\n",
    "detach(stats)"
   ]
  },
  {
   "cell_type": "code",
   "execution_count": 1,
   "metadata": {
    "collapsed": false
   },
   "outputs": [
    {
     "data": {
      "text/html": [
       "<table>\n",
       "<thead><tr><th scope=col>opto_condition</th><th scope=col>N</th><th scope=col>mean</th><th scope=col>sd</th><th scope=col>se</th></tr></thead>\n",
       "<tbody>\n",
       "\t<tr><td>         </td><td>13       </td><td>      NA </td><td>       NA</td><td>      NA </td></tr>\n",
       "\t<tr><td>mock     </td><td> 5       </td><td>3479.400 </td><td> 746.8041</td><td>333.9809 </td></tr>\n",
       "\t<tr><td>stim     </td><td>14       </td><td>4848.143 </td><td>2184.8731</td><td>583.9319 </td></tr>\n",
       "</tbody>\n",
       "</table>\n"
      ],
      "text/latex": [
       "\\begin{tabular}{r|lllll}\n",
       " opto\\_condition & N & mean & sd & se\\\\\n",
       "\\hline\n",
       "\t           & 13        &       NA  &        NA &       NA \\\\\n",
       "\t mock      &  5        & 3479.400  &  746.8041 & 333.9809 \\\\\n",
       "\t stim      & 14        & 4848.143  & 2184.8731 & 583.9319 \\\\\n",
       "\\end{tabular}\n"
      ],
      "text/markdown": [
       "\n",
       "opto_condition | N | mean | sd | se | \n",
       "|---|---|---|\n",
       "|           | 13        |       NA  |        NA |       NA  | \n",
       "| mock      |  5        | 3479.400  |  746.8041 | 333.9809  | \n",
       "| stim      | 14        | 4848.143  | 2184.8731 | 583.9319  | \n",
       "\n",
       "\n"
      ],
      "text/plain": [
       "  opto_condition N  mean     sd        se      \n",
       "1                13       NA        NA       NA\n",
       "2 mock            5 3479.400  746.8041 333.9809\n",
       "3 stim           14 4848.143 2184.8731 583.9319"
      ]
     },
     "metadata": {},
     "output_type": "display_data"
    },
    {
     "name": "stderr",
     "output_type": "stream",
     "text": [
      "Warning message:\n",
      "“Removed 13 rows containing non-finite values (stat_summary).”Warning message:\n",
      "“Removed 13 rows containing non-finite values (stat_summary).”Warning message:\n",
      "“Removed 13 rows containing missing values (geom_point).”"
     ]
    },
    {
     "data": {},
     "metadata": {},
     "output_type": "display_data"
    },
    {
     "ename": "ERROR",
     "evalue": "Error in eval(expr, envir, enclos): '...' used in an incorrect context\n",
     "output_type": "error",
     "traceback": [
      "Error in eval(expr, envir, enclos): '...' used in an incorrect context\nTraceback:\n"
     ]
    },
    {
     "data": {
      "image/png": "iVBORw0KGgoAAAANSUhEUgAAAPAAAAFoCAYAAABpF3YIAAAEDWlDQ1BJQ0MgUHJvZmlsZQAA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\nTkSuQmCC",
      "text/plain": [
       "plot without title"
      ]
     },
     "metadata": {},
     "output_type": "display_data"
    }
   ],
   
}
