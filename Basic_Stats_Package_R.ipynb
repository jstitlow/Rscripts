{
 "cells": [
  {
   "cell_type": "code",
   "execution_count": null,
   "metadata": {
    "collapsed": true
   },
   "outputs": [],
   "source": [
    "# Notes on how to run the statistical analysis code \n",
    "\n",
    "# The test dataset is called 'filename.csv'\n",
    "# 'filename.csv' has measurements (Y) for different variables (X)\n",
    "# The first column (X1) has 2 groups (independent variables)\n",
    "# The second column (Y1) has measurements from 2 variables, to demonstrate t-tests\n",
    "# The third column (X2) has 3 groups (independent variables)\n",
    "# The fourth column (Y2) has measurements from 3 variables, to demonstrate ANOVAs\n",
    "\n",
    "# Here are the steps to use this code for your data:\n",
    "# -Create .csv file in tall format\n",
    "# -Label the column with dependent variable Y (or Y1 if more than two independent variables)\n",
    "# -Label the column with independent variable X (or X1 if more than two dependent variables)\n",
    "# -Substitute \"~/filename.csv\" with the pathname to your data file\n",
    "# -Run cell (Shift + Enter)\n",
    "\n",
    "# Code for plotting the data with ggplot2 is provided at the end of the notebook"
   ]
  },
  {
   "cell_type": "code",
   "execution_count": 3,
   "metadata": {
    "collapsed": false
   },
   "outputs": [
    {
     "data": {
      "text/plain": [
       "\n",
       "\tF test to compare two variances\n",
       "\n",
       "data:  Y1 by X1\n",
       "F = 0.50192, num df = 12, denom df = 23, p-value = 0.2155\n",
       "alternative hypothesis: true ratio of variances is not equal to 1\n",
       "95 percent confidence interval:\n",
       " 0.1953053 1.5211167\n",
       "sample estimates:\n",
       "ratio of variances \n",
       "         0.5019233 \n"
      ]
     },
     "metadata": {},
     "output_type": "display_data"
    },
    {
     "data": {
      "text/html": [
       "<table>\n",
       "<thead><tr><th scope=col>X1</th><th scope=col>N</th><th scope=col>mean</th><th scope=col>sd</th><th scope=col>se</th></tr></thead>\n",
       "<tbody>\n",
       "\t<tr><td>        </td><td>18      </td><td>      NA</td><td>      NA</td><td>      NA</td></tr>\n",
       "\t<tr><td>Control </td><td>13      </td><td>4.600343</td><td>5.796878</td><td>1.607765</td></tr>\n",
       "\t<tr><td>Stim    </td><td>24      </td><td>5.749513</td><td>8.182302</td><td>1.670205</td></tr>\n",
       "</tbody>\n",
       "</table>\n"
      ],
      "text/latex": [
       "\\begin{tabular}{r|lllll}\n",
       " X1 & N & mean & sd & se\\\\\n",
       "\\hline\n",
       "\t          & 18       &       NA &       NA &       NA\\\\\n",
       "\t Control  & 13       & 4.600343 & 5.796878 & 1.607765\\\\\n",
       "\t Stim     & 24       & 5.749513 & 8.182302 & 1.670205\\\\\n",
       "\\end{tabular}\n"
      ],
      "text/markdown": [
       "\n",
       "X1 | N | mean | sd | se | \n",
       "|---|---|---|\n",
       "|          | 18       |       NA |       NA |       NA | \n",
       "| Control  | 13       | 4.600343 | 5.796878 | 1.607765 | \n",
       "| Stim     | 24       | 5.749513 | 8.182302 | 1.670205 | \n",
       "\n",
       "\n"
      ],
      "text/plain": [
       "  X1      N  mean     sd       se      \n",
       "1         18       NA       NA       NA\n",
       "2 Control 13 4.600343 5.796878 1.607765\n",
       "3 Stim    24 5.749513 8.182302 1.670205"
      ]
     },
     "metadata": {},
     "output_type": "display_data"
    }
   ],
   "source": [
    "# F test\n",
    "# Compare the variances of two populations\n",
    "\n",
    "# Load data (csv file in tall format)\n",
    "stats <- read.csv(\"~/filename.csv\")\n",
    "\n",
    "# Define variables \n",
    "attach(stats)\n",
    "\n",
    "# Run F test \n",
    "var.test(Y1 ~ X1, data = stats)\n",
    "\n",
    "# Calculate descriptive statistics\n",
    "library(plyr)\n",
    "\n",
    "cdata <- ddply(stats, c(\"X1\"), summarise,\n",
    "N    = length(Y1),\n",
    "mean = mean(Y1),\n",
    "sd   = sd(Y1),\n",
    "se   = sd / sqrt(N)\n",
    ")\n",
    "cdata\n",
    "\n",
    "detach(stats)"
   ]
  },
  {
   "cell_type": "code",
   "execution_count": 2,
   "metadata": {
    "collapsed": false
   },
   "outputs": [
    {
     "data": {
      "text/plain": [
       "\n",
       "\tShapiro-Wilk normality test\n",
       "\n",
       "data:  Y1\n",
       "W = 0.73557, p-value = 8.326e-07\n"
      ]
     },
     "metadata": {},
     "output_type": "display_data"
    },
    {
     "data": {
      "text/html": [
       "<table>\n",
       "<thead><tr><th scope=col>X1</th><th scope=col>N</th><th scope=col>mean</th><th scope=col>sd</th><th scope=col>se</th></tr></thead>\n",
       "<tbody>\n",
       "\t<tr><td>        </td><td>18      </td><td>      NA</td><td>      NA</td><td>      NA</td></tr>\n",
       "\t<tr><td>Control </td><td>13      </td><td>4.600343</td><td>5.796878</td><td>1.607765</td></tr>\n",
       "\t<tr><td>Stim    </td><td>24      </td><td>5.749513</td><td>8.182302</td><td>1.670205</td></tr>\n",
       "</tbody>\n",
       "</table>\n"
      ],
      "text/latex": [
       "\\begin{tabular}{r|lllll}\n",
       " X1 & N & mean & sd & se\\\\\n",
       "\\hline\n",
       "\t          & 18       &       NA &       NA &       NA\\\\\n",
       "\t Control  & 13       & 4.600343 & 5.796878 & 1.607765\\\\\n",
       "\t Stim     & 24       & 5.749513 & 8.182302 & 1.670205\\\\\n",
       "\\end{tabular}\n"
      ],
      "text/markdown": [
       "\n",
       "X1 | N | mean | sd | se | \n",
       "|---|---|---|\n",
       "|          | 18       |       NA |       NA |       NA | \n",
       "| Control  | 13       | 4.600343 | 5.796878 | 1.607765 | \n",
       "| Stim     | 24       | 5.749513 | 8.182302 | 1.670205 | \n",
       "\n",
       "\n"
      ],
      "text/plain": [
       "  X1      N  mean     sd       se      \n",
       "1         18       NA       NA       NA\n",
       "2 Control 13 4.600343 5.796878 1.607765\n",
       "3 Stim    24 5.749513 8.182302 1.670205"
      ]
     },
     "metadata": {},
     "output_type": "display_data"
    }
   ],
   "source": [
    "# Shapiro-Wilk test for normality\n",
    "\n",
    "\n",
    "# Load data (csv file in tall format)\n",
    "stats <- read.csv(\"~/filename.csv\")\n",
    "\n",
    "# Define variables \n",
    "attach(stats)\n",
    "\n",
    "# Run Shapiro-Wilk test \n",
    "# Note that this code tests normality of both groups combined\n",
    "# To test individual groups you must make separate columns and test individually\n",
    "\n",
    "shapiro.test(Y1) # p-value=1 normal / p-value=0 not normal\n",
    "\n",
    "\n",
    "# Calculate descriptive statistics\n",
    "library(plyr)\n",
    "\n",
    "cdata <- ddply(stats, c(\"X1\"), summarise,\n",
    "N    = length(Y1),\n",
    "mean = mean(Y1),\n",
    "sd   = sd(Y1),\n",
    "se   = sd / sqrt(N)\n",
    ")\n",
    "cdata\n",
    "\n",
    "detach(stats)"
   ]
  },
  {
   "cell_type": "code",
   "execution_count": 2,
   "metadata": {
    "collapsed": false
   },
   "outputs": [
    {
     "name": "stderr",
     "output_type": "stream",
     "text": [
      "Loading required package: splines\n",
      "Loading required package: RcmdrMisc\n",
      "Loading required package: car\n",
      "Loading required package: sandwich\n",
      "The Commander GUI is launched only in interactive sessions\n"
     ]
    },
    {
     "data": {
      "text/html": [
       "<table>\n",
       "<thead><tr><th></th><th scope=col>Df</th><th scope=col>F value</th><th scope=col>Pr(&gt;F)</th></tr></thead>\n",
       "<tbody>\n",
       "\t<tr><th scope=row>group</th><td> 1       </td><td>0.1571269</td><td>0.6942221</td></tr>\n",
       "\t<tr><th scope=row> </th><td>35       </td><td>       NA</td><td>       NA</td></tr>\n",
       "</tbody>\n",
       "</table>\n"
      ],
      "text/latex": [
       "\\begin{tabular}{r|lll}\n",
       "  & Df & F value & Pr(>F)\\\\\n",
       "\\hline\n",
       "\tgroup &  1        & 0.1571269 & 0.6942221\\\\\n",
       "\t  & 35        &        NA &        NA\\\\\n",
       "\\end{tabular}\n"
      ],
      "text/markdown": [
       "\n",
       "| <!--/--> | Df | F value | Pr(>F) | \n",
       "|---|---|\n",
       "| group |  1        | 0.1571269 | 0.6942221 | \n",
       "|   | 35        |        NA |        NA | \n",
       "\n",
       "\n"
      ],
      "text/plain": [
       "      Df F value   Pr(>F)   \n",
       "group  1 0.1571269 0.6942221\n",
       "      35        NA        NA"
      ]
     },
     "metadata": {},
     "output_type": "display_data"
    },
    {
     "data": {
      "text/html": [
       "<table>\n",
       "<thead><tr><th scope=col>X1</th><th scope=col>N</th><th scope=col>mean</th><th scope=col>sd</th><th scope=col>se</th></tr></thead>\n",
       "<tbody>\n",
       "\t<tr><td>        </td><td>18      </td><td>      NA</td><td>      NA</td><td>      NA</td></tr>\n",
       "\t<tr><td>Control </td><td>13      </td><td>4.600343</td><td>5.796878</td><td>1.607765</td></tr>\n",
       "\t<tr><td>Stim    </td><td>24      </td><td>5.749513</td><td>8.182302</td><td>1.670205</td></tr>\n",
       "</tbody>\n",
       "</table>\n"
      ],
      "text/latex": [
       "\\begin{tabular}{r|lllll}\n",
       " X1 & N & mean & sd & se\\\\\n",
       "\\hline\n",
       "\t          & 18       &       NA &       NA &       NA\\\\\n",
       "\t Control  & 13       & 4.600343 & 5.796878 & 1.607765\\\\\n",
       "\t Stim     & 24       & 5.749513 & 8.182302 & 1.670205\\\\\n",
       "\\end{tabular}\n"
      ],
      "text/markdown": [
       "\n",
       "X1 | N | mean | sd | se | \n",
       "|---|---|---|\n",
       "|          | 18       |       NA |       NA |       NA | \n",
       "| Control  | 13       | 4.600343 | 5.796878 | 1.607765 | \n",
       "| Stim     | 24       | 5.749513 | 8.182302 | 1.670205 | \n",
       "\n",
       "\n"
      ],
      "text/plain": [
       "  X1      N  mean     sd       se      \n",
       "1         18       NA       NA       NA\n",
       "2 Control 13 4.600343 5.796878 1.607765\n",
       "3 Stim    24 5.749513 8.182302 1.670205"
      ]
     },
     "metadata": {},
     "output_type": "display_data"
    }
   ],
   "source": [
    "# Levene's test \n",
    "# Compare the variances of k samples, where k can be more than two samples. \n",
    "# It’s an alternative to the Bartlett’s test that is less sensitive to departures from normality.\n",
    "\n",
    "library(Rcmdr)\n",
    "\n",
    "# Load data (csv file in tall format)\n",
    "stats <- read.csv(\"~/filename.csv\")\n",
    "\n",
    "# Define variables \n",
    "attach(stats)\n",
    "\n",
    "# Run Levene's test\n",
    "leveneTest(Y1, X1)\n",
    "\n",
    "# Calculate descriptive statistics\n",
    "library(plyr)\n",
    "\n",
    "cdata <- ddply(stats, c(\"X1\"), summarise,\n",
    "N    = length(Y1),\n",
    "mean = mean(Y1),\n",
    "sd   = sd(Y1),\n",
    "se   = sd / sqrt(N)\n",
    ")\n",
    "cdata\n",
    "\n",
    "detach(stats)"
   ]
  },
  {
   "cell_type": "code",
   "execution_count": 1,
   "metadata": {
    "collapsed": false
   },
   "outputs": [
    {
     "data": {
      "text/plain": [
       "\n",
       "\tWilcoxon rank sum test\n",
       "\n",
       "data:  Y1 by X1\n",
       "W = 141, p-value = 0.6489\n",
       "alternative hypothesis: true location shift is not equal to 0\n"
      ]
     },
     "metadata": {},
     "output_type": "display_data"
    },
    {
     "data": {
      "text/html": [
       "<table>\n",
       "<thead><tr><th scope=col>X1</th><th scope=col>N</th><th scope=col>mean</th><th scope=col>sd</th><th scope=col>se</th></tr></thead>\n",
       "<tbody>\n",
       "\t<tr><td>        </td><td>18      </td><td>      NA</td><td>      NA</td><td>      NA</td></tr>\n",
       "\t<tr><td>Control </td><td>13      </td><td>4.600343</td><td>5.796878</td><td>1.607765</td></tr>\n",
       "\t<tr><td>Stim    </td><td>24      </td><td>5.749513</td><td>8.182302</td><td>1.670205</td></tr>\n",
       "</tbody>\n",
       "</table>\n"
      ],
      "text/latex": [
       "\\begin{tabular}{r|lllll}\n",
       " X1 & N & mean & sd & se\\\\\n",
       "\\hline\n",
       "\t          & 18       &       NA &       NA &       NA\\\\\n",
       "\t Control  & 13       & 4.600343 & 5.796878 & 1.607765\\\\\n",
       "\t Stim     & 24       & 5.749513 & 8.182302 & 1.670205\\\\\n",
       "\\end{tabular}\n"
      ],
      "text/markdown": [
       "\n",
       "X1 | N | mean | sd | se | \n",
       "|---|---|---|\n",
       "|          | 18       |       NA |       NA |       NA | \n",
       "| Control  | 13       | 4.600343 | 5.796878 | 1.607765 | \n",
       "| Stim     | 24       | 5.749513 | 8.182302 | 1.670205 | \n",
       "\n",
       "\n"
      ],
      "text/plain": [
       "  X1      N  mean     sd       se      \n",
       "1         18       NA       NA       NA\n",
       "2 Control 13 4.600343 5.796878 1.607765\n",
       "3 Stim    24 5.749513 8.182302 1.670205"
      ]
     },
     "metadata": {},
     "output_type": "display_data"
    }
   ],
   "source": [
    "# Wilcox rank sum test\n",
    "# Nonparametric alternative to t-test\n",
    "\n",
    "# Load data (csv file in tall format)\n",
    "stats <- read.csv(\"~/filename.csv\")\n",
    "\n",
    "# Define variables \n",
    "attach(stats)\n",
    "\n",
    "# Run Wilcox rank sum test \n",
    "wilcox.test(Y1 ~ X1, data=stats)\n",
    "\n",
    "# Calculate descriptive statistics\n",
    "library(plyr)\n",
    "\n",
    "cdata <- ddply(stats, c(\"X1\"), summarise,\n",
    "N    = length(Y1),\n",
    "mean = mean(Y1),\n",
    "sd   = sd(Y1),\n",
    "se   = sd / sqrt(N)\n",
    ")\n",
    "cdata\n",
    "\n",
    "detach(stats)"
   ]
  },
  {
   "cell_type": "code",
   "execution_count": 4,
   "metadata": {
    "collapsed": false
   },
   "outputs": [
    {
     "data": {
      "text/plain": [
       "\n",
       "\tKruskal-Wallis rank sum test\n",
       "\n",
       "data:  Y1 by X1\n",
       "Kruskal-Wallis chi-squared = 0.22773, df = 1, p-value = 0.6332\n"
      ]
     },
     "metadata": {},
     "output_type": "display_data"
    },
    {
     "data": {
      "text/html": [
       "<table>\n",
       "<thead><tr><th scope=col>X2</th><th scope=col>N</th><th scope=col>mean</th><th scope=col>sd</th><th scope=col>se</th></tr></thead>\n",
       "<tbody>\n",
       "\t<tr><td>Control  </td><td>13       </td><td>4.600343 </td><td>5.7968781</td><td>1.6077647</td></tr>\n",
       "\t<tr><td>Stim     </td><td>24       </td><td>5.749513 </td><td>8.1823021</td><td>1.6702054</td></tr>\n",
       "\t<tr><td>Stim_Drug</td><td>18       </td><td>2.024242 </td><td>0.7606184</td><td>0.1792795</td></tr>\n",
       "</tbody>\n",
       "</table>\n"
      ],
      "text/latex": [
       "\\begin{tabular}{r|lllll}\n",
       " X2 & N & mean & sd & se\\\\\n",
       "\\hline\n",
       "\t Control   & 13        & 4.600343  & 5.7968781 & 1.6077647\\\\\n",
       "\t Stim      & 24        & 5.749513  & 8.1823021 & 1.6702054\\\\\n",
       "\t Stim\\_Drug & 18          & 2.024242    & 0.7606184   & 0.1792795  \\\\\n",
       "\\end{tabular}\n"
      ],
      "text/markdown": [
       "\n",
       "X2 | N | mean | sd | se | \n",
       "|---|---|---|\n",
       "| Control   | 13        | 4.600343  | 5.7968781 | 1.6077647 | \n",
       "| Stim      | 24        | 5.749513  | 8.1823021 | 1.6702054 | \n",
       "| Stim_Drug | 18        | 2.024242  | 0.7606184 | 0.1792795 | \n",
       "\n",
       "\n"
      ],
      "text/plain": [
       "  X2        N  mean     sd        se       \n",
       "1 Control   13 4.600343 5.7968781 1.6077647\n",
       "2 Stim      24 5.749513 8.1823021 1.6702054\n",
       "3 Stim_Drug 18 2.024242 0.7606184 0.1792795"
      ]
     },
     "metadata": {},
     "output_type": "display_data"
    }
   ],
   "source": [
    "# Kruskal-Wallis test\n",
    "# Non-parametric alternative to ANOVA\n",
    "\n",
    "# Load data (csv file in tall format)\n",
    "stats <- read.csv(\"~/filename.csv\")\n",
    "\n",
    "# Define variables \n",
    "attach(stats)\n",
    "\n",
    "# Run Krusal-Wallis test\n",
    "kruskal.test(Y1 ~ X1, data=stats)\n",
    "\n",
    "# Calculate descriptive statistics\n",
    "library(plyr)\n",
    "\n",
    "cdata <- ddply(stats, c(\"X2\"), summarise,\n",
    "N    = length(Y2),\n",
    "mean = mean(Y2),\n",
    "sd   = sd(Y2),\n",
    "se   = sd / sqrt(N)\n",
    ")\n",
    "cdata\n",
    "\n",
    "detach(stats)"
   ]
  },
  {
   "cell_type": "code",
   "execution_count": 3,
   "metadata": {
    "collapsed": false
   },
   "outputs": [
    {
     "name": "stderr",
     "output_type": "stream",
     "text": [
      "## FSA v0.8.13. See citation('FSA') if used in publication.\n",
      "## Run fishR() for related website and fishR('IFAR') for related book.\n",
      "Dunn (1964) Kruskal-Wallis multiple comparison\n",
      "  p-values adjusted with the Bonferroni method.\n",
      "\n"
     ]
    },
    {
     "data": {
      "text/plain": [
       "           Comparison          Z   P.unadj P.adj\n",
       "1      Control - Stim -0.3654162 0.7148008     1\n",
       "2 Control - Stim_Drug -0.2242580 0.8225566     1\n",
       "3    Stim - Stim_Drug  0.1417980 0.8872395     1"
      ]
     },
     "metadata": {},
     "output_type": "display_data"
    },
    {
     "data": {
      "text/html": [
       "<table>\n",
       "<thead><tr><th scope=col>X2</th><th scope=col>N</th><th scope=col>mean</th><th scope=col>sd</th><th scope=col>se</th></tr></thead>\n",
       "<tbody>\n",
       "\t<tr><td>Control  </td><td>13       </td><td>4.600343 </td><td>5.7968781</td><td>1.6077647</td></tr>\n",
       "\t<tr><td>Stim     </td><td>24       </td><td>5.749513 </td><td>8.1823021</td><td>1.6702054</td></tr>\n",
       "\t<tr><td>Stim_Drug</td><td>18       </td><td>2.024242 </td><td>0.7606184</td><td>0.1792795</td></tr>\n",
       "</tbody>\n",
       "</table>\n"
      ],
      "text/latex": [
       "\\begin{tabular}{r|lllll}\n",
       " X2 & N & mean & sd & se\\\\\n",
       "\\hline\n",
       "\t Control   & 13        & 4.600343  & 5.7968781 & 1.6077647\\\\\n",
       "\t Stim      & 24        & 5.749513  & 8.1823021 & 1.6702054\\\\\n",
       "\t Stim\\_Drug & 18          & 2.024242    & 0.7606184   & 0.1792795  \\\\\n",
       "\\end{tabular}\n"
      ],
      "text/markdown": [
       "\n",
       "X2 | N | mean | sd | se | \n",
       "|---|---|---|\n",
       "| Control   | 13        | 4.600343  | 5.7968781 | 1.6077647 | \n",
       "| Stim      | 24        | 5.749513  | 8.1823021 | 1.6702054 | \n",
       "| Stim_Drug | 18        | 2.024242  | 0.7606184 | 0.1792795 | \n",
       "\n",
       "\n"
      ],
      "text/plain": [
       "  X2        N  mean     sd        se       \n",
       "1 Control   13 4.600343 5.7968781 1.6077647\n",
       "2 Stim      24 5.749513 8.1823021 1.6702054\n",
       "3 Stim_Drug 18 2.024242 0.7606184 0.1792795"
      ]
     },
     "metadata": {},
     "output_type": "display_data"
    }
   ],
   "source": [
    "# Dunn posthoc test\n",
    "# For multiple comparisons of the Kruskal-Wallis test\n",
    "\n",
    "library(FSA)\n",
    "# https://cran.r-project.org/web/packages/dunn.test/dunn.test.pdf\n",
    "\n",
    "# Load data (csv file in tall format)\n",
    "stats <- read.csv(\"~/filename.csv\")\n",
    "\n",
    "# Define variables \n",
    "attach(stats)\n",
    "\n",
    "dunnTest(Y2 ~ X2,\n",
    "              data=stats,\n",
    "              method=\"bonferroni\")    # Can adjust p-values; \n",
    "                              # See ?p.adjust for options \n",
    "\n",
    "# Calculate descriptive statistics\n",
    "library(plyr)\n",
    "\n",
    "cdata <- ddply(stats, c(\"X2\"), summarise,\n",
    "N    = length(Y2),\n",
    "mean = mean(Y2),\n",
    "sd   = sd(Y2),\n",
    "se   = sd / sqrt(N)\n",
    ")\n",
    "cdata\n",
    "\n",
    "detach(stats)"
   ]
  },
  {
   "cell_type": "code",
   "execution_count": 2,
   "metadata": {
    "collapsed": false
   },
   "outputs": [
    {
     "data": {
      "text/plain": [
       "\n",
       "\tWelch Two Sample t-test\n",
       "\n",
       "data:  Y1 by X1\n",
       "t = -0.4957, df = 32.269, p-value = 0.6235\n",
       "alternative hypothesis: true difference in means is not equal to 0\n",
       "95 percent confidence interval:\n",
       " -5.869843  3.571502\n",
       "sample estimates:\n",
       "mean in group Control    mean in group Stim \n",
       "             4.600343              5.749513 \n"
      ]
     },
     "metadata": {},
     "output_type": "display_data"
    },
    {
     "data": {
      "text/html": [
       "<table>\n",
       "<thead><tr><th scope=col>X1</th><th scope=col>N</th><th scope=col>mean</th><th scope=col>sd</th><th scope=col>se</th></tr></thead>\n",
       "<tbody>\n",
       "\t<tr><td>        </td><td>18      </td><td>      NA</td><td>      NA</td><td>      NA</td></tr>\n",
       "\t<tr><td>Control </td><td>13      </td><td>4.600343</td><td>5.796878</td><td>1.607765</td></tr>\n",
       "\t<tr><td>Stim    </td><td>24      </td><td>5.749513</td><td>8.182302</td><td>1.670205</td></tr>\n",
       "</tbody>\n",
       "</table>\n"
      ],
      "text/latex": [
       "\\begin{tabular}{r|lllll}\n",
       " X1 & N & mean & sd & se\\\\\n",
       "\\hline\n",
       "\t          & 18       &       NA &       NA &       NA\\\\\n",
       "\t Control  & 13       & 4.600343 & 5.796878 & 1.607765\\\\\n",
       "\t Stim     & 24       & 5.749513 & 8.182302 & 1.670205\\\\\n",
       "\\end{tabular}\n"
      ],
      "text/markdown": [
       "\n",
       "X1 | N | mean | sd | se | \n",
       "|---|---|---|\n",
       "|          | 18       |       NA |       NA |       NA | \n",
       "| Control  | 13       | 4.600343 | 5.796878 | 1.607765 | \n",
       "| Stim     | 24       | 5.749513 | 8.182302 | 1.670205 | \n",
       "\n",
       "\n"
      ],
      "text/plain": [
       "  X1      N  mean     sd       se      \n",
       "1         18       NA       NA       NA\n",
       "2 Control 13 4.600343 5.796878 1.607765\n",
       "3 Stim    24 5.749513 8.182302 1.670205"
      ]
     },
     "metadata": {},
     "output_type": "display_data"
    }
   ],
   "source": [
    "# Students t-test\n",
    "\n",
    "# Load data (csv file in tall format)\n",
    "stats <- read.csv(\"~/filename.csv\")\n",
    "\n",
    "# Define variables \n",
    "attach(stats)\n",
    "\n",
    "# Run t-Test\n",
    "t.test(Y1 ~ X1, stats)\n",
    "\n",
    "# Calculate descriptive statistics\n",
    "library(plyr)\n",
    "cdata <- ddply(stats, c(\"X1\"), summarise,\n",
    "N    = length(Y1),\n",
    "mean = mean(Y1),\n",
    "sd   = sd(Y1),\n",
    "se   = sd / sqrt(N)\n",
    ")\n",
    "cdata\n",
    "\n",
    "detach(stats)"
   ]
  },
  {
   "cell_type": "code",
   "execution_count": 1,
   "metadata": {
    "collapsed": false
   },
   "outputs": [
    {
     "data": {
      "text/plain": [
       "Call:\n",
       "   aov(formula = Y2 ~ X2)\n",
       "\n",
       "Terms:\n",
       "                       X2 Residuals\n",
       "Sum of Squares   144.7284 1952.9323\n",
       "Deg. of Freedom         2        52\n",
       "\n",
       "Residual standard error: 6.128327\n",
       "Estimated effects may be unbalanced"
      ]
     },
     "metadata": {},
     "output_type": "display_data"
    },
    {
     "data": {
      "text/plain": [
       "            Df Sum Sq Mean Sq F value Pr(>F)\n",
       "X2           2  144.7   72.36   1.927  0.156\n",
       "Residuals   52 1952.9   37.56               "
      ]
     },
     "metadata": {},
     "output_type": "display_data"
    },
    {
     "data": {
      "text/plain": [
       "  Tukey multiple comparisons of means\n",
       "    95% family-wise confidence level\n",
       "\n",
       "Fit: aov(formula = Y2 ~ X2)\n",
       "\n",
       "$X2\n",
       "                       diff       lwr      upr     p adj\n",
       "Stim-Control       1.149170 -3.942379 6.240719 0.8497122\n",
       "Stim_Drug-Control -2.576101 -7.957551 2.805349 0.4852147\n",
       "Stim_Drug-Stim    -3.725271 -8.335359 0.884816 0.1351965\n"
      ]
     },
     "metadata": {},
     "output_type": "display_data"
    },
    {
     "data": {
      "text/html": [
       "<table>\n",
       "<thead><tr><th scope=col>X2</th><th scope=col>N</th><th scope=col>mean</th><th scope=col>sd</th><th scope=col>se</th></tr></thead>\n",
       "<tbody>\n",
       "\t<tr><td>Control  </td><td>13       </td><td>4.600343 </td><td>5.7968781</td><td>1.6077647</td></tr>\n",
       "\t<tr><td>Stim     </td><td>24       </td><td>5.749513 </td><td>8.1823021</td><td>1.6702054</td></tr>\n",
       "\t<tr><td>Stim_Drug</td><td>18       </td><td>2.024242 </td><td>0.7606184</td><td>0.1792795</td></tr>\n",
       "</tbody>\n",
       "</table>\n"
      ],
      "text/latex": [
       "\\begin{tabular}{r|lllll}\n",
       " X2 & N & mean & sd & se\\\\\n",
       "\\hline\n",
       "\t Control   & 13        & 4.600343  & 5.7968781 & 1.6077647\\\\\n",
       "\t Stim      & 24        & 5.749513  & 8.1823021 & 1.6702054\\\\\n",
       "\t Stim\\_Drug & 18          & 2.024242    & 0.7606184   & 0.1792795  \\\\\n",
       "\\end{tabular}\n"
      ],
      "text/markdown": [
       "\n",
       "X2 | N | mean | sd | se | \n",
       "|---|---|---|\n",
       "| Control   | 13        | 4.600343  | 5.7968781 | 1.6077647 | \n",
       "| Stim      | 24        | 5.749513  | 8.1823021 | 1.6702054 | \n",
       "| Stim_Drug | 18        | 2.024242  | 0.7606184 | 0.1792795 | \n",
       "\n",
       "\n"
      ],
      "text/plain": [
       "  X2        N  mean     sd        se       \n",
       "1 Control   13 4.600343 5.7968781 1.6077647\n",
       "2 Stim      24 5.749513 8.1823021 1.6702054\n",
       "3 Stim_Drug 18 2.024242 0.7606184 0.1792795"
      ]
     },
     "metadata": {},
     "output_type": "display_data"
    }
   ],
   "source": [
    "# One-way ANOVA with Tukey Post-hoc test\n",
    "\n",
    "# Load data (csv file in tall format)\n",
    "stats <- read.csv(\"~/filename.csv\")\n",
    "\n",
    "# Define variables\n",
    "attach(stats)\n",
    "\n",
    "# Run one-way ANOVA on columns ()\n",
    "ANOVA.aov = aov(Y2 ~ X2)\n",
    "\n",
    "# View results from ANOVA\n",
    "ANOVA.aov\n",
    "\n",
    "# View more results from ANOVA\n",
    "summary(ANOVA.aov)\n",
    "\n",
    "# Perform posthoc (Tukey)\n",
    "TukeyHSD(ANOVA.aov)\n",
    "\n",
    "# Calculate descriptive statistics\n",
    "library(plyr)\n",
    "\n",
    "cdata <- ddply(stats, c(\"X2\"), summarise,\n",
    "N    = length(Y2),\n",
    "mean = mean(Y2),\n",
    "sd   = sd(Y2),\n",
    "se   = sd / sqrt(N)\n",
    ")\n",
    "cdata\n",
    "\n",
    "detach(stats)"
   ]
  },
  {
   "cell_type": "code",
   "execution_count": 8,
   "metadata": {
    "collapsed": false
   },
   "outputs": [
    {
     "data": {
      "text/html": [
       "<table>\n",
       "<thead><tr><th scope=col>X2</th><th scope=col>N</th><th scope=col>mean</th><th scope=col>sd</th><th scope=col>se</th></tr></thead>\n",
       "<tbody>\n",
       "\t<tr><td>Control  </td><td>13       </td><td>4.600343 </td><td>5.7968781</td><td>1.6077647</td></tr>\n",
       "\t<tr><td>Stim     </td><td>24       </td><td>5.749513 </td><td>8.1823021</td><td>1.6702054</td></tr>\n",
       "\t<tr><td>Stim+Drug</td><td>18       </td><td>2.024242 </td><td>0.7606184</td><td>0.1792795</td></tr>\n",
       "</tbody>\n",
       "</table>\n"
      ],
      "text/latex": [
       "\\begin{tabular}{r|lllll}\n",
       " X2 & N & mean & sd & se\\\\\n",
       "\\hline\n",
       "\t Control   & 13        & 4.600343  & 5.7968781 & 1.6077647\\\\\n",
       "\t Stim      & 24        & 5.749513  & 8.1823021 & 1.6702054\\\\\n",
       "\t Stim+Drug & 18        & 2.024242  & 0.7606184 & 0.1792795\\\\\n",
       "\\end{tabular}\n"
      ],
      "text/markdown": [
       "\n",
       "X2 | N | mean | sd | se | \n",
       "|---|---|---|\n",
       "| Control   | 13        | 4.600343  | 5.7968781 | 1.6077647 | \n",
       "| Stim      | 24        | 5.749513  | 8.1823021 | 1.6702054 | \n",
       "| Stim+Drug | 18        | 2.024242  | 0.7606184 | 0.1792795 | \n",
       "\n",
       "\n"
      ],
      "text/plain": [
       "  X2        N  mean     sd        se       \n",
       "1 Control   13 4.600343 5.7968781 1.6077647\n",
       "2 Stim      24 5.749513 8.1823021 1.6702054\n",
       "3 Stim+Drug 18 2.024242 0.7606184 0.1792795"
      ]
     },
     "metadata": {},
     "output_type": "display_data"
    },
    {
     "name": "stderr",
     "output_type": "stream",
     "text": [
      "Warning message:\n",
      "“Ignoring unknown parameters: binwidth, bins, pad”"
     ]
    },
    {
     "data": {},
     "metadata": {},
     "output_type": "display_data"
    },
    {
     "data": {
      "image/png": "[encoded data removed]",
      "text/plain": [
       "plot without title"
      ]
     },
     "metadata": {},
     "output_type": "display_data"
    }
   ],
   "source": [
    "# Plot data as histogram with mean +/- sem \n",
    "\n",
    "library(ggplot2)\n",
    "library(repr)\n",
    "\n",
    "\n",
    "# Load data (csv file in tall format)\n",
    "stats <- read.csv(\"~/filename.csv\")\n",
    "\n",
    "# Define variables\n",
    "attach(stats)\n",
    "\n",
    "# Adjust plot size\n",
    "options(repr.plot.width=2, repr.plot.height=3)\n",
    "\n",
    "# Calculate descriptive statistics\n",
    "library(plyr)\n",
    "\n",
    "cdata <- ddply(stats, c(\"X2\"), summarise,\n",
    "N    = length(Y2),\n",
    "mean = mean(Y2),\n",
    "sd   = sd(Y2),\n",
    "se   = sd / sqrt(N)\n",
    ")\n",
    "cdata\n",
    "\n",
    "# Generate histogram\n",
    "ggplot(cdata, aes(x=X2, y=mean, group=1, width = 0.5)) +\n",
    "    geom_histogram(fill=\"#0072B2\", stat=\"identity\")+\n",
    "    geom_errorbar(aes(ymin=mean-se, ymax=mean+se),\n",
    "        size=.5,    # Thinner lines\n",
    "        width=.2,\n",
    "        position=position_dodge(.9)) +\n",
    "    ylim(0,10) +   \n",
    "    #xlab(\"Condition\") +\n",
    "    ylab(\"Measurement\") +\n",
    "    #ggtitle(\"The Effect of Vitamin C on\\nTooth Growth in Guinea Pigs\") +\n",
    "    #scale_y_continuous(breaks=0:20*4) +\n",
    "    #theme_bw() +\n",
    "    theme(axis.text.x=element_text(size=12, angle=90, hjust=(1), vjust=(0.5), colour=\"black\", face=\"bold\"),\n",
    "           axis.text.y=element_text(size=12, colour=\"black\", face=\"bold\"),\n",
    "           axis.title=element_text(size=14, face=\"bold\"),\n",
    "           axis.title.x=element_blank(),\n",
    "           axis.ticks.x=element_blank())+\n",
    "    theme(panel.grid.major = element_blank(), panel.grid.minor = element_blank(),\n",
    "    panel.background = element_blank(), axis.line = element_line(colour = \"black\"))+\n",
    "    scale_x_discrete(limits=c(\"Control\", \"Stim\", \"Stim+Drug\"))\n",
    "\n",
    "detach(stats)"
   ]
  },
  {
   "cell_type": "code",
   "execution_count": 1,
   "metadata": {
    "collapsed": false
   },
   "outputs": [
    {
     "data": {
      "text/html": [
       "<table>\n",
       "<thead><tr><th scope=col>X2</th><th scope=col>N</th><th scope=col>mean</th><th scope=col>sd</th><th scope=col>se</th></tr></thead>\n",
       "<tbody>\n",
       "\t<tr><td>Control  </td><td>13       </td><td>4.600343 </td><td>5.7968781</td><td>1.6077647</td></tr>\n",
       "\t<tr><td>Stim     </td><td>24       </td><td>5.749513 </td><td>8.1823021</td><td>1.6702054</td></tr>\n",
       "\t<tr><td>Stim+Drug</td><td>18       </td><td>2.024242 </td><td>0.7606184</td><td>0.1792795</td></tr>\n",
       "</tbody>\n",
       "</table>\n"
      ],
      "text/latex": [
       "\\begin{tabular}{r|lllll}\n",
       " X2 & N & mean & sd & se\\\\\n",
       "\\hline\n",
       "\t Control   & 13        & 4.600343  & 5.7968781 & 1.6077647\\\\\n",
       "\t Stim      & 24        & 5.749513  & 8.1823021 & 1.6702054\\\\\n",
       "\t Stim+Drug & 18        & 2.024242  & 0.7606184 & 0.1792795\\\\\n",
       "\\end{tabular}\n"
      ],
      "text/markdown": [
       "\n",
       "X2 | N | mean | sd | se | \n",
       "|---|---|---|\n",
       "| Control   | 13        | 4.600343  | 5.7968781 | 1.6077647 | \n",
       "| Stim      | 24        | 5.749513  | 8.1823021 | 1.6702054 | \n",
       "| Stim+Drug | 18        | 2.024242  | 0.7606184 | 0.1792795 | \n",
       "\n",
       "\n"
      ],
      "text/plain": [
       "  X2        N  mean     sd        se       \n",
       "1 Control   13 4.600343 5.7968781 1.6077647\n",
       "2 Stim      24 5.749513 8.1823021 1.6702054\n",
       "3 Stim+Drug 18 2.024242 0.7606184 0.1792795"
      ]
     },
     "metadata": {},
     "output_type": "display_data"
    },
    {
     "data": {},
     "metadata": {},
     "output_type": "display_data"
    },
    {
     "data": {
      "image/png": "[encoded data removed]",
      "text/plain": [
       "plot without title"
      ]
     },
     "metadata": {},
     "output_type": "display_data"
    }
   ],
   "source": [
    "# Plot every point in the data with mean +/- sem \n",
    "\n",
    "library(ggplot2)\n",
    "library(repr)\n",
    "\n",
    "\n",
    "# Load data (csv file in tall format)\n",
    "stats <- read.csv(\"~/filename.csv\")\n",
    "\n",
    "# Define variables\n",
    "attach(stats)\n",
    "\n",
    "# Adjust plot size\n",
    "options(repr.plot.width=2, repr.plot.height=3)\n",
    "\n",
    "# Calculate descriptive statistics\n",
    "library(plyr)\n",
    "\n",
    "cdata <- ddply(stats, c(\"X2\"), summarise,\n",
    "N    = length(Y2),\n",
    "mean = mean(Y2),\n",
    "sd   = sd(Y2),\n",
    "se   = sd / sqrt(N)\n",
    ")\n",
    "cdata\n",
    "\n",
    "# Generate graph\n",
    "p <- ggplot(stats, aes(X2,Y2)) + \n",
    "    geom_point(position = position_jitter(width = 0.2), shape=1, stroke=.5) +\n",
    "    stat_summary(fun.y = mean, fun.ymin = mean,fun.ymax = mean, geom = \"errorbar\", width = .5, colour = \"red\") + \n",
    "    stat_summary(fun.data = mean_se, geom = \"errorbar\", width = .25, colour = \"red\") +\n",
    "    #stat_summary(fun.data = median.quartile, geom = \"errorbar\", width = .25, colour = \"red\") +\n",
    "    #stat_summary(fun.y = mean, fun.ymin = mean, fun.ymax = mean, geom = \"errorbar\", width = 0.5, colour = \"red\") +\n",
    "    theme(panel.grid.major = element_blank(), panel.grid.minor = element_blank(),panel.background = element_blank(), axis.line = element_line(colour = \"black\")) +\n",
    "    theme(axis.text.x = element_text(size=12, colour = \"black\", face=\"bold\", vjust=(0.5), hjust=(1), angle=90),\n",
    "          axis.text.y = element_text(colour = \"black\", face=\"bold\"),\n",
    "          axis.title.x=element_blank(),\n",
    "          axis.title.y=element_text(size=12, face=\"bold\"),\n",
    "          axis.ticks.x=element_blank()) +\n",
    "    ylab(\"Measurement\") +\n",
    "    #ylab(expression(bold(D~(mu*m^2/s)))) + \n",
    "    #ylim(0.0, 1.5)+\n",
    "    scale_x_discrete(limits=c(\"Control\", \"Stim\", \"Stim+Drug\"))\n",
    "p\n",
    "\n",
    "detach(stats)"
   ]
  },
  {
   "cell_type": "code",
   "execution_count": 1,
   "metadata": {
    "collapsed": false
   },
   "outputs": [
    {
     "data": {
      "text/html": [
       "<table>\n",
       "<thead><tr><th scope=col>opto_condition</th><th scope=col>N</th><th scope=col>mean</th><th scope=col>sd</th><th scope=col>se</th></tr></thead>\n",
       "<tbody>\n",
       "\t<tr><td>         </td><td>13       </td><td>      NA </td><td>       NA</td><td>      NA </td></tr>\n",
       "\t<tr><td>mock     </td><td> 5       </td><td>3479.400 </td><td> 746.8041</td><td>333.9809 </td></tr>\n",
       "\t<tr><td>stim     </td><td>14       </td><td>4848.143 </td><td>2184.8731</td><td>583.9319 </td></tr>\n",
       "</tbody>\n",
       "</table>\n"
      ],
      "text/latex": [
       "\\begin{tabular}{r|lllll}\n",
       " opto\\_condition & N & mean & sd & se\\\\\n",
       "\\hline\n",
       "\t           & 13        &       NA  &        NA &       NA \\\\\n",
       "\t mock      &  5        & 3479.400  &  746.8041 & 333.9809 \\\\\n",
       "\t stim      & 14        & 4848.143  & 2184.8731 & 583.9319 \\\\\n",
       "\\end{tabular}\n"
      ],
      "text/markdown": [
       "\n",
       "opto_condition | N | mean | sd | se | \n",
       "|---|---|---|\n",
       "|           | 13        |       NA  |        NA |       NA  | \n",
       "| mock      |  5        | 3479.400  |  746.8041 | 333.9809  | \n",
       "| stim      | 14        | 4848.143  | 2184.8731 | 583.9319  | \n",
       "\n",
       "\n"
      ],
      "text/plain": [
       "  opto_condition N  mean     sd        se      \n",
       "1                13       NA        NA       NA\n",
       "2 mock            5 3479.400  746.8041 333.9809\n",
       "3 stim           14 4848.143 2184.8731 583.9319"
      ]
     },
     "metadata": {},
     "output_type": "display_data"
    },
    {
     "name": "stderr",
     "output_type": "stream",
     "text": [
      "Warning message:\n",
      "“Removed 13 rows containing non-finite values (stat_summary).”Warning message:\n",
      "“Removed 13 rows containing non-finite values (stat_summary).”Warning message:\n",
      "“Removed 13 rows containing missing values (geom_point).”"
     ]
    },
    {
     "data": {},
     "metadata": {},
     "output_type": "display_data"
    },
    {
     "ename": "ERROR",
     "evalue": "Error in eval(expr, envir, enclos): '...' used in an incorrect context\n",
     "output_type": "error",
     "traceback": [
      "Error in eval(expr, envir, enclos): '...' used in an incorrect context\nTraceback:\n"
     ]
    },
    {
     "data": {
      "image/png": "[encoded data removed]",
      "text/plain": [
       "plot without title"
      ]
     },
     "metadata": {},
     "output_type": "display_data"
    }
   ],
   "source": [
    "# Plot every point in the data with mean +/- sem \n",
    "\n",
    "library(ggplot2)\n",
    "library(repr)\n",
    "\n",
    "\n",
    "# Load data (csv file in tall format)\n",
    "stats <- read.csv(\"~/Google Drive/Talks/2018_FlyClub_talk_data.csv\")\n",
    "\n",
    "# Define variables\n",
    "attach(stats)\n",
    "\n",
    "# Adjust plot size\n",
    "options(repr.plot.width=2, repr.plot.height=3)\n",
    "\n",
    "# Calculate descriptive statistics\n",
    "library(plyr)\n",
    "\n",
    "cdata <- ddply(stats, c(\"opto_condition\"), summarise,\n",
    "N    = length(opto_sr),\n",
    "mean = mean(opto_sr),\n",
    "sd   = sd(opto_sr),\n",
    "se   = sd / sqrt(N)\n",
    ")\n",
    "cdata\n",
    "\n",
    "# Generate graph\n",
    "p <- ggplot(stats, aes(opto_condition,opto_sr)) + \n",
    "    geom_point(position = position_jitter(width = 0.2), shape=19, color=\"cyan\", stroke=.5) +\n",
    "    stat_summary(fun.y = mean, fun.ymin = mean,fun.ymax = mean, geom = \"errorbar\", width = .5, colour = \"yellow\") + \n",
    "    stat_summary(fun.data = mean_se, geom = \"errorbar\", width = .25, colour = \"yellow\") +\n",
    "    #stat_summary(fun.data = median.quartile, geom = \"errorbar\", width = .25, colour = \"red\") +\n",
    "    #stat_summary(fun.y = mean, fun.ymin = mean, fun.ymax = mean, geom = \"errorbar\", width = 0.5, colour = \"red\") +\n",
    "    theme(panel.grid.major = element_blank(), panel.grid.minor = element_blank(),panel.background = element_rect(fill = \"black\",colour = \"black\"), axis.line = element_line(colour = \"black\")) +\n",
    "    theme(axis.text.x = element_text(size=12, colour = \"black\", face=\"bold\", vjust=(0.5), hjust=(1), angle=90),\n",
    "          axis.text.y = element_text(colour = \"black\", face=\"bold\"),\n",
    "          axis.title.x=element_blank(),\n",
    "          axis.title.y=element_text(size=12, face=\"bold\"),\n",
    "          axis.ticks.x=element_blank()) +\n",
    "    #theme(panel.background = element_rect(fill = \"black\",colour = \"black\")+\n",
    "    ylab(\"Total number of RNAs\") +\n",
    "    #ylab(expression(bold(D~(mu*m^2/s)))) + \n",
    "    #ylim(0.0, 1.5)+\n",
    "    scale_x_discrete(limits=c(\"mock\", \"stim\"))\n",
    "p\n",
    "ggsave(filename=\"rRNA_lineprofile.pdf\", plot=p, scale = 1, width = 4, height = 5, dpi = 600, limitsize = TRUE)\n",
    "\n",
    "detach(stats)"
   ]
  },
  {
   "cell_type": "code",
   "execution_count": 32,
   "metadata": {
    "collapsed": false
   },
   "outputs": [
    {
     "data": {
      "text/plain": [
       "\n",
       "\tF test to compare two variances\n",
       "\n",
       "data:  nmj_K_sr by nmj_K_condition_sr\n",
       "F = 0.035299, num df = 20, denom df = 30, p-value = 1.205e-10\n",
       "alternative hypothesis: true ratio of variances is not equal to 1\n",
       "95 percent confidence interval:\n",
       " 0.01608018 0.08290232\n",
       "sample estimates:\n",
       "ratio of variances \n",
       "        0.03529858 \n"
      ]
     },
     "metadata": {},
     "output_type": "display_data"
    },
    {
     "data": {
      "text/plain": [
       "\n",
       "\tWelch Two Sample t-test\n",
       "\n",
       "data:  nmj_K_sr by nmj_K_condition_sr\n",
       "t = -3.3024, df = 33.073, p-value = 0.002307\n",
       "alternative hypothesis: true difference in means is not equal to 0\n",
       "95 percent confidence interval:\n",
       " -578.3066 -137.4107\n",
       "sample estimates:\n",
       "mean in group mock mean in group stim \n",
       "          232.2381           590.0968 \n"
      ]
     },
     "metadata": {},
     "output_type": "display_data"
    },
    {
     "data": {
      "text/html": [
       "<table>\n",
       "<thead><tr><th scope=col>nmj_K_condition_sr</th><th scope=col>N</th><th scope=col>mean</th><th scope=col>sd</th><th scope=col>se</th></tr></thead>\n",
       "<tbody>\n",
       "\t<tr><td>         </td><td>12       </td><td>      NA </td><td>      NA </td><td>       NA</td></tr>\n",
       "\t<tr><td>mock     </td><td>21       </td><td>232.2381 </td><td>110.5124 </td><td> 24.11578</td></tr>\n",
       "\t<tr><td>stim     </td><td>31       </td><td>590.0968 </td><td>588.2100 </td><td>105.64564</td></tr>\n",
       "</tbody>\n",
       "</table>\n"
      ],
      "text/latex": [
       "\\begin{tabular}{r|lllll}\n",
       " nmj\\_K\\_condition\\_sr & N & mean & sd & se\\\\\n",
       "\\hline\n",
       "\t           & 12        &       NA  &       NA  &        NA\\\\\n",
       "\t mock      & 21        & 232.2381  & 110.5124  &  24.11578\\\\\n",
       "\t stim      & 31        & 590.0968  & 588.2100  & 105.64564\\\\\n",
       "\\end{tabular}\n"
      ],
      "text/markdown": [
       "\n",
       "nmj_K_condition_sr | N | mean | sd | se | \n",
       "|---|---|---|\n",
       "|           | 12        |       NA  |       NA  |        NA | \n",
       "| mock      | 21        | 232.2381  | 110.5124  |  24.11578 | \n",
       "| stim      | 31        | 590.0968  | 588.2100  | 105.64564 | \n",
       "\n",
       "\n"
      ],
      "text/plain": [
       "  nmj_K_condition_sr N  mean     sd       se       \n",
       "1                    12       NA       NA        NA\n",
       "2 mock               21 232.2381 110.5124  24.11578\n",
       "3 stim               31 590.0968 588.2100 105.64564"
      ]
     },
     "metadata": {},
     "output_type": "display_data"
    },
    {
     "name": "stderr",
     "output_type": "stream",
     "text": [
      "Warning message:\n",
      "“Removed 12 rows containing non-finite values (stat_summary).”Warning message:\n",
      "“Removed 12 rows containing non-finite values (stat_summary).”Warning message:\n",
      "“Removed 12 rows containing missing values (geom_point).”"
     ]
    },
    {
     "data": {},
     "metadata": {},
     "output_type": "display_data"
    },
    {
     "name": "stderr",
     "output_type": "stream",
     "text": [
      "Warning message:\n",
      "“Removed 12 rows containing non-finite values (stat_summary).”Warning message:\n",
      "“Removed 12 rows containing non-finite values (stat_summary).”Warning message:\n",
      "“Removed 12 rows containing missing values (geom_point).”"
     ]
    },
    {
     "data": {
      "image/png": "[encoded data removed]",
      "text/plain": [
       "plot without title"
      ]
     },
     "metadata": {},
     "output_type": "display_data"
    }
   ],
   "source": [
    "# Plot every point in the data with mean +/- sem \n",
    "\n",
    "library(ggplot2)\n",
    "library(repr)\n",
    "\n",
    "\n",
    "# Load data (csv file in tall format)\n",
    "stats <- read.csv(\"~/Google Drive/Talks/2018_FlyClub_talk_data.csv\")\n",
    "\n",
    "# Define variables\n",
    "attach(stats)\n",
    "\n",
    "# Run F test \n",
    "var.test(nmj_K_sr ~ nmj_K_condition_sr, data = stats)\n",
    "\n",
    "# Run T test\n",
    "t.test(nmj_K_sr ~ nmj_K_condition_sr, stats)\n",
    "\n",
    "# Adjust plot size\n",
    "options(repr.plot.width=2, repr.plot.height=3)\n",
    "\n",
    "# Calculate descriptive statistics\n",
    "library(plyr)\n",
    "\n",
    "cdata <- ddply(stats, c(\"nmj_K_condition_sr\"), summarise,\n",
    "N    = length(nmj_K_sr),\n",
    "mean = mean(nmj_K_sr),\n",
    "sd   = sd(nmj_K_sr),\n",
    "se   = sd / sqrt(N)\n",
    ")\n",
    "cdata\n",
    "\n",
    "# Generate graph\n",
    "p <- ggplot(stats, aes(nmj_K_condition_sr,nmj_K_sr)) + \n",
    "    geom_point(position = position_jitter(width = 0.2), shape=19, color=\"blue2\", size=1.75) +\n",
    "    stat_summary(fun.y = mean, fun.ymin = mean,fun.ymax = mean, geom = \"errorbar\", width = .5, colour = \"black\") + \n",
    "    stat_summary(fun.data = mean_se, geom = \"errorbar\", width = .25, colour = \"black\") +\n",
    "    #stat_summary(fun.data = median.quartile, geom = \"errorbar\", width = .25, colour = \"red\") +\n",
    "    #stat_summary(fun.y = mean, fun.ymin = mean, fun.ymax = mean, geom = \"errorbar\", width = 0.5, colour = \"red\") +\n",
    "    theme(panel.grid.major = element_blank(), panel.grid.minor = element_blank(),panel.background = element_blank(), axis.line = element_line(colour = \"black\")) +\n",
    "    theme(axis.text.x = element_text(size=12, colour = \"black\", vjust=(0.5), hjust=(1), angle=90),\n",
    "          axis.text.y = element_text(size=12, colour = \"black\"),\n",
    "          axis.title.x=element_blank(),\n",
    "          axis.title.y=element_text(colour=\"black\", size=12),\n",
    "          axis.ticks.y=element_line(colour=\"black\"),\n",
    "          axis.ticks.x=element_blank()) +\n",
    "    #theme(panel.background = element_rect(fill = \"black\",colour = \"black\")+\n",
    "    ylab(\"Number of RNAs / NMJ\") +\n",
    "    #ylab(expression(bold(D~(mu*m^2/s)))) + \n",
    "    ylim(0.0, 2500)+\n",
    "    scale_x_discrete(limits=c(\"mock\", \"stim\"))\n",
    "p\n",
    "ggsave(filename=\"sr_opto.pdf\", plot=p, scale = 1, width = 5, height = 7, dpi = 600, limitsize = TRUE)\n",
    "\n",
    "detach(stats)"
   ]
  },
  {
   "cell_type": "code",
   "execution_count": 1,
   "metadata": {
    "collapsed": false
   },
   "outputs": [
    {
     "data": {
      "text/html": [
       "<table>\n",
       "<thead><tr><th scope=col>opto_condition</th><th scope=col>N</th><th scope=col>mean</th><th scope=col>sd</th><th scope=col>se</th></tr></thead>\n",
       "<tbody>\n",
       "\t<tr><td>         </td><td>13       </td><td>      NA </td><td>       NA</td><td>      NA </td></tr>\n",
       "\t<tr><td>mock     </td><td> 5       </td><td>3479.400 </td><td> 746.8041</td><td>333.9809 </td></tr>\n",
       "\t<tr><td>stim     </td><td>14       </td><td>4848.143 </td><td>2184.8731</td><td>583.9319 </td></tr>\n",
       "</tbody>\n",
       "</table>\n"
      ],
      "text/latex": [
       "\\begin{tabular}{r|lllll}\n",
       " opto\\_condition & N & mean & sd & se\\\\\n",
       "\\hline\n",
       "\t           & 13        &       NA  &        NA &       NA \\\\\n",
       "\t mock      &  5        & 3479.400  &  746.8041 & 333.9809 \\\\\n",
       "\t stim      & 14        & 4848.143  & 2184.8731 & 583.9319 \\\\\n",
       "\\end{tabular}\n"
      ],
      "text/markdown": [
       "\n",
       "opto_condition | N | mean | sd | se | \n",
       "|---|---|---|\n",
       "|           | 13        |       NA  |        NA |       NA  | \n",
       "| mock      |  5        | 3479.400  |  746.8041 | 333.9809  | \n",
       "| stim      | 14        | 4848.143  | 2184.8731 | 583.9319  | \n",
       "\n",
       "\n"
      ],
      "text/plain": [
       "  opto_condition N  mean     sd        se      \n",
       "1                13       NA        NA       NA\n",
       "2 mock            5 3479.400  746.8041 333.9809\n",
       "3 stim           14 4848.143 2184.8731 583.9319"
      ]
     },
     "metadata": {},
     "output_type": "display_data"
    },
    {
     "name": "stderr",
     "output_type": "stream",
     "text": [
      "Warning message:\n",
      "“Removed 13 rows containing non-finite values (stat_summary).”Warning message:\n",
      "“Removed 13 rows containing non-finite values (stat_summary).”Warning message:\n",
      "“Removed 13 rows containing missing values (geom_point).”"
     ]
    },
    {
     "data": {},
     "metadata": {},
     "output_type": "display_data"
    },
    {
     "name": "stderr",
     "output_type": "stream",
     "text": [
      "Warning message:\n",
      "“Removed 13 rows containing non-finite values (stat_summary).”Warning message:\n",
      "“Removed 13 rows containing non-finite values (stat_summary).”Warning message:\n",
      "“Removed 13 rows containing missing values (geom_point).”"
     ]
    },
    {
     "data": {
      "image/png": "[encoded data removed]",
      "text/plain": [
       "plot without title"
      ]
     },
     "metadata": {},
     "output_type": "display_data"
    }
   ],
   "source": [
    "# Plot every point in the data with mean +/- sem \n",
    "\n",
    "library(ggplot2)\n",
    "library(repr)\n",
    "\n",
    "\n",
    "# Load data (csv file in tall format)\n",
    "stats <- read.csv(\"~/Google Drive/Talks/2018_FlyClub_talk_data.csv\")\n",
    "\n",
    "# Define variables\n",
    "attach(stats)\n",
    "\n",
    "# Adjust plot size\n",
    "options(repr.plot.width=2, repr.plot.height=3)\n",
    "\n",
    "# Calculate descriptive statistics\n",
    "library(plyr)\n",
    "\n",
    "cdata <- ddply(stats, c(\"opto_condition\"), summarise,\n",
    "N    = length(opto_sr),\n",
    "mean = mean(opto_sr),\n",
    "sd   = sd(opto_sr),\n",
    "se   = sd / sqrt(N)\n",
    ")\n",
    "cdata\n",
    "\n",
    "# Generate graph\n",
    "p <- ggplot(stats, aes(opto_condition,opto_sr)) + \n",
    "    geom_point(position = position_jitter(width = 0.2), shape=19, color=\"cyan\", stroke=.5) +\n",
    "    stat_summary(fun.y = mean, fun.ymin = mean,fun.ymax = mean, geom = \"errorbar\", width = .5, colour = \"yellow\") + \n",
    "    stat_summary(fun.data = mean_se, geom = \"errorbar\", width = .25, colour = \"yellow\") +\n",
    "    #stat_summary(fun.data = median.quartile, geom = \"errorbar\", width = .25, colour = \"red\") +\n",
    "    #stat_summary(fun.y = mean, fun.ymin = mean, fun.ymax = mean, geom = \"errorbar\", width = 0.5, colour = \"red\") +\n",
    "    theme(panel.grid.major = element_blank(), panel.grid.minor = element_blank(),panel.background = element_rect(fill = \"black\",colour = \"black\"), axis.line = element_line(colour = \"yellow\"), plot.background = element_rect(color = \"black\", fill = \"black\")) +\n",
    "    theme(axis.text.x = element_text(size=16, colour = \"cyan\", face=\"bold\", vjust=(0.5), hjust=(1), angle=90),\n",
    "          axis.text.y = element_text(size=16, colour = \"cyan\", face=\"bold\"),\n",
    "          axis.title.x=element_blank(),\n",
    "          axis.title.y=element_text(colour=\"yellow\", size=16, face=\"bold\"),\n",
    "          axis.ticks.y=element_line(colour=\"yellow\"),\n",
    "          axis.ticks.x=element_blank()) +\n",
    "    #theme(panel.background = element_rect(fill = \"black\",colour = \"black\")+\n",
    "    ylab(\"Total number of RNAs\") +\n",
    "    #ylab(expression(bold(D~(mu*m^2/s)))) + \n",
    "    #ylim(0.0, 1.5)+\n",
    "    scale_x_discrete(limits=c(\"mock\", \"stim\"))\n",
    "p\n",
    "ggsave(filename=\"sr_opto.pdf\", plot=p, scale = 1, width = 5, height = 7, dpi = 600, limitsize = TRUE)\n",
    "\n",
    "detach(stats)"
   ]
  },
  {
   "cell_type": "code",
   "execution_count": 5,
   "metadata": {
    "collapsed": false
   },
   "outputs": [
    {
     "data": {
      "text/plain": [
       "\n",
       "\tF test to compare two variances\n",
       "\n",
       "data:  nmj_K_msp by nmj_K_condition_msp\n",
       "F = 1.0069, num df = 30, denom df = 32, p-value = 0.9817\n",
       "alternative hypothesis: true ratio of variances is not equal to 1\n",
       "95 percent confidence interval:\n",
       " 0.4933942 2.0722679\n",
       "sample estimates:\n",
       "ratio of variances \n",
       "          1.006937 \n"
      ]
     },
     "metadata": {},
     "output_type": "display_data"
    },
    {
     "data": {
      "text/plain": [
       "\n",
       "\tWelch Two Sample t-test\n",
       "\n",
       "data:  nmj_K_msp by nmj_K_condition_msp\n",
       "t = 1.837, df = 61.723, p-value = 0.07102\n",
       "alternative hypothesis: true difference in means is not equal to 0\n",
       "95 percent confidence interval:\n",
       " -12.32642 291.63043\n",
       "sample estimates:\n",
       "mean in group mock mean in group stim \n",
       "          665.2581           525.6061 \n"
      ]
     },
     "metadata": {},
     "output_type": "display_data"
    },
    {
     "data": {
      "text/html": [
       "<table>\n",
       "<thead><tr><th scope=col>nmj_K_condition_msp</th><th scope=col>N</th><th scope=col>mean</th><th scope=col>sd</th><th scope=col>se</th></tr></thead>\n",
       "<tbody>\n",
       "\t<tr><td>mock    </td><td>31      </td><td>665.2581</td><td>304.4459</td><td>54.68011</td></tr>\n",
       "\t<tr><td>stim    </td><td>33      </td><td>525.6061</td><td>303.3955</td><td>52.81437</td></tr>\n",
       "</tbody>\n",
       "</table>\n"
      ],
      "text/latex": [
       "\\begin{tabular}{r|lllll}\n",
       " nmj\\_K\\_condition\\_msp & N & mean & sd & se\\\\\n",
       "\\hline\n",
       "\t mock     & 31       & 665.2581 & 304.4459 & 54.68011\\\\\n",
       "\t stim     & 33       & 525.6061 & 303.3955 & 52.81437\\\\\n",
       "\\end{tabular}\n"
      ],
      "text/markdown": [
       "\n",
       "nmj_K_condition_msp | N | mean | sd | se | \n",
       "|---|---|\n",
       "| mock     | 31       | 665.2581 | 304.4459 | 54.68011 | \n",
       "| stim     | 33       | 525.6061 | 303.3955 | 52.81437 | \n",
       "\n",
       "\n"
      ],
      "text/plain": [
       "  nmj_K_condition_msp N  mean     sd       se      \n",
       "1 mock                31 665.2581 304.4459 54.68011\n",
       "2 stim                33 525.6061 303.3955 52.81437"
      ]
     },
     "metadata": {},
     "output_type": "display_data"
    },
    {
     "name": "stderr",
     "output_type": "stream",
     "text": [
      "Warning message:\n",
      "“Ignoring unknown parameters: stroke”Warning message:\n",
      "“Ignoring unknown parameters: stroke”"
     ]
    },
    {
     "data": {},
     "metadata": {},
     "output_type": "display_data"
    },
    {
     "data": {
      "image/png": "[encoded data removed]",
      "text/plain": [
       "plot without title"
      ]
     },
     "metadata": {},
     "output_type": "display_data"
    }
   ],
   "source": [
    "# Plot every point in the data with mean +/- sem \n",
    "\n",
    "library(ggplot2)\n",
    "library(repr)\n",
    "\n",
    "\n",
    "# Load data (csv file in tall format)\n",
    "stats <- read.csv(\"~/Google Drive/Talks/2018_FlyClub_talk_data.csv\")\n",
    "\n",
    "# Define variables\n",
    "attach(stats)\n",
    "\n",
    "# Run F test \n",
    "var.test(nmj_K_msp ~ nmj_K_condition_msp, data = stats)\n",
    "\n",
    "# Run T test\n",
    "t.test(nmj_K_msp ~ nmj_K_condition_msp, stats)\n",
    "\n",
    "# Adjust plot size\n",
    "options(repr.plot.width=2, repr.plot.height=3)\n",
    "\n",
    "# Calculate descriptive statistics\n",
    "library(plyr)\n",
    "\n",
    "cdata <- ddply(stats, c(\"nmj_K_condition_msp\"), summarise,\n",
    "N    = length(nmj_K_msp),\n",
    "mean = mean(nmj_K_msp),\n",
    "sd   = sd(nmj_K_msp),\n",
    "se   = sd / sqrt(N)\n",
    ")\n",
    "cdata\n",
    "\n",
    "# Generate graph\n",
    "p <- ggplot(stats, aes(nmj_K_condition_msp,nmj_K_msp)) + \n",
    "    geom_point(position = position_jitter(width = 0.2), shape=19, color=\"blue\", stroke=1) +\n",
    "    stat_summary(fun.y = mean, fun.ymin = mean,fun.ymax = mean, geom = \"errorbar\", width = .5, colour = \"black\", stroke=5) + \n",
    "    stat_summary(fun.data = mean_se, geom = \"errorbar\", width = .25, colour = \"black\", stroke=5) +\n",
    "    #stat_summary(fun.data = median.quartile, geom = \"errorbar\", width = .25, colour = \"red\") +\n",
    "    #stat_summary(fun.y = mean, fun.ymin = mean, fun.ymax = mean, geom = \"errorbar\", width = 0.5, colour = \"red\") +\n",
    "    theme(panel.grid.major = element_blank(), panel.grid.minor = element_blank(),panel.background = element_blank(), axis.line = element_line(colour = \"black\")) +\n",
    "    theme(axis.text.x = element_text(size=16, colour = \"black\", face=\"bold\", vjust=(0.5), hjust=(1), angle=90),\n",
    "          axis.text.y = element_text(size=16, colour = \"black\", face=\"bold\"),\n",
    "          axis.title.x=element_blank(),\n",
    "          axis.title.y=element_text(colour=\"black\", size=16, face=\"bold\"),\n",
    "          axis.ticks.y=element_line(colour=\"black\"),\n",
    "          axis.ticks.x=element_blank()) +\n",
    "\n",
    "    #theme(panel.background = element_rect(fill = \"black\",colour = \"black\")+\n",
    "    ylab(\"Total number of RNAs\") +\n",
    "    #ylab(expression(bold(D~(mu*m^2/s)))) + \n",
    "    ylim(0.0, 1500)+\n",
    "    scale_x_discrete(limits=c(\"mock\", \"stim\"))\n",
    "p\n",
    "ggsave(filename=\"sr_opto.pdf\", plot=p, scale = 1, width = 5, height = 7, dpi = 600, limitsize = TRUE)\n",
    "\n",
    "detach(stats)"
   ]
  },
  {
   "cell_type": "code",
   "execution_count": 1,
   "metadata": {
    "collapsed": true
   },
   "outputs": [
    {
     "data": {
      "text/plain": [
       "\n",
       "\tF test to compare two variances\n",
       "\n",
       "data:  mean_intensity by genotype\n",
       "F = 0.85602, num df = 644, denom df = 480, p-value = 0.0669\n",
       "alternative hypothesis: true ratio of variances is not equal to 1\n",
       "95 percent confidence interval:\n",
       " 0.7233847 1.0108785\n",
       "sample estimates:\n",
       "ratio of variances \n",
       "         0.8560194 \n"
      ]
     },
     "metadata": {},
     "output_type": "display_data"
    },
    {
     "data": {
      "text/plain": [
       "\n",
       "\tWelch Two Sample t-test\n",
       "\n",
       "data:  mean_intensity by genotype\n",
       "t = -1.6334, df = 988.27, p-value = 0.1027\n",
       "alternative hypothesis: true difference in means is not equal to 0\n",
       "95 percent confidence interval:\n",
       " -11.449981   1.047563\n",
       "sample estimates:\n",
       "mean in group control  mean in group mutant \n",
       "             108.3347              113.5359 \n"
      ]
     },
     "metadata": {},
     "output_type": "display_data"
    },
    {
     "data": {
      "text/html": [
       "<table>\n",
       "<thead><tr><th scope=col>genotype</th><th scope=col>N</th><th scope=col>mean</th><th scope=col>sd</th><th scope=col>se</th></tr></thead>\n",
       "<tbody>\n",
       "\t<tr><td>control </td><td>645     </td><td>108.3347</td><td>50.48047</td><td>1.987667</td></tr>\n",
       "\t<tr><td>mutant  </td><td>481     </td><td>113.5359</td><td>54.56091</td><td>2.487763</td></tr>\n",
       "</tbody>\n",
       "</table>\n"
      ],
      "text/latex": [
       "\\begin{tabular}{r|lllll}\n",
       " genotype & N & mean & sd & se\\\\\n",
       "\\hline\n",
       "\t control  & 645      & 108.3347 & 50.48047 & 1.987667\\\\\n",
       "\t mutant   & 481      & 113.5359 & 54.56091 & 2.487763\\\\\n",
       "\\end{tabular}\n"
      ],
      "text/markdown": [
       "\n",
       "genotype | N | mean | sd | se | \n",
       "|---|---|\n",
       "| control  | 645      | 108.3347 | 50.48047 | 1.987667 | \n",
       "| mutant   | 481      | 113.5359 | 54.56091 | 2.487763 | \n",
       "\n",
       "\n"
      ],
      "text/plain": [
       "  genotype N   mean     sd       se      \n",
       "1 control  645 108.3347 50.48047 1.987667\n",
       "2 mutant   481 113.5359 54.56091 2.487763"
      ]
     },
     "metadata": {},
     "output_type": "display_data"
    },
    {
     "name": "stderr",
     "output_type": "stream",
     "text": [
      "Warning message:\n",
      "“Ignoring unknown parameters: stroke”Warning message:\n",
      "“Ignoring unknown parameters: stroke”Warning message:\n",
      "“Removed 9 rows containing missing values (geom_point).”"
     ]
    },
    {
     "data": {},
     "metadata": {},
     "output_type": "display_data"
    },
    {
     "name": "stderr",
     "output_type": "stream",
     "text": [
      "Warning message:\n",
      "“Removed 10 rows containing missing values (geom_point).”"
     ]
    },
    {
     "data": {
      "image/png": "[encoded data removed]",
      "text/plain": [
       "plot without title"
      ]
     },
     "metadata": {},
     "output_type": "display_data",
     "source": "R display func"
    }
   ],
   "source": [
    "# Plot every point in the data with mean +/- sem \n",
    "\n",
    "library(ggplot2)\n",
    "library(repr)\n",
    "\n",
    "\n",
    "# Load data (csv file in tall format)\n",
    "stats <- read.csv(\"~/Desktop/airyscan/matrix_means.csv\")\n",
    "\n",
    "# Define variables\n",
    "attach(stats)\n",
    "\n",
    "# Run F test \n",
    "var.test(mean_intensity ~ genotype, data = stats)\n",
    "\n",
    "# Run T test\n",
    "t.test(mean_intensity ~ genotype, data = stats)\n",
    "\n",
    "# Adjust plot size\n",
    "options(repr.plot.width=2, repr.plot.height=3)\n",
    "\n",
    "# Calculate descriptive statistics\n",
    "library(plyr)\n",
    "\n",
    "cdata <- ddply(stats, c(\"genotype\"), summarise,\n",
    "N    = length(mean_intensity),\n",
    "mean = mean(mean_intensity),\n",
    "sd   = sd(mean_intensity),\n",
    "se   = sd / sqrt(N)\n",
    ")\n",
    "cdata\n",
    "\n",
    "# Generate graph\n",
    "p <- ggplot(stats, aes(genotype,mean_intensity)) + \n",
    "    geom_point(position = position_jitter(width = 0.2), shape=19, color=\"blue\", stroke=1) +\n",
    "    stat_summary(fun.y = mean, fun.ymin = mean,fun.ymax = mean, geom = \"errorbar\", width = .5, colour = \"black\", stroke=5) + \n",
    "    stat_summary(fun.data = mean_se, geom = \"errorbar\", width = .25, colour = \"black\", stroke=5) +\n",
    "    #stat_summary(fun.data = median.quartile, geom = \"errorbar\", width = .25, colour = \"red\") +\n",
    "    #stat_summary(fun.y = mean, fun.ymin = mean, fun.ymax = mean, geom = \"errorbar\", width = 0.5, colour = \"red\") +\n",
    "    theme(panel.grid.major = element_blank(), panel.grid.minor = element_blank(),panel.background = element_blank(), axis.line = element_line(colour = \"black\")) +\n",
    "    theme(axis.text.x = element_text(size=16, colour = \"black\", face=\"bold\", vjust=(0.5), hjust=(1), angle=90),\n",
    "          axis.text.y = element_text(size=16, colour = \"black\", face=\"bold\"),\n",
    "          axis.title.x=element_blank(),\n",
    "          axis.title.y=element_text(colour=\"black\", size=16, face=\"bold\"),\n",
    "          axis.ticks.y=element_line(colour=\"black\"),\n",
    "          axis.ticks.x=element_blank()) +\n",
    "\n",
    "    #theme(panel.background = element_rect(fill = \"black\",colour = \"black\")+\n",
    "    ylab(\"mean pixel intensity\") +\n",
    "    #ylab(expression(bold(D~(mu*m^2/s)))) + \n",
    "    ylim(0.0, 500)+\n",
    "    scale_x_discrete(limits=c(\"control\", \"mutant\"))\n",
    "p\n",
    "ggsave(filename=\"matrix_mean.pdf\", plot=p, scale = 1, width = 5, height = 7, dpi = 600, limitsize = TRUE)\n",
    "\n",
    "detach(stats)"
   ]
  },
  {
   "cell_type": "code",
   "execution_count": null,
   "metadata": {},
   "outputs": [],
   "source": []
  }
 ],
 "metadata": {
  "anaconda-cloud": {},
  "kernelspec": {
   "display_name": "R",
   "language": "R",
   "name": "ir"
  },
  "language_info": {
   "codemirror_mode": "r",
   "file_extension": ".r",
   "mimetype": "text/x-r-source",
   "name": "R",
   "pygments_lexer": "r",
   "version": "3.3.2"
  }
 },
 "nbformat": 4,
 "nbformat_minor": 2
}
