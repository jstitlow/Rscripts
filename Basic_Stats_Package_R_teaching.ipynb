{
 "cells": [
  {
   "cell_type": "code",
   "execution_count": null,
   "metadata": {
    "collapsed": true
   },
   "outputs": [],
   "source": [
    "# Rscripts\n",
    "\n",
    "# How to run the statistical analysis code \n",
    "\n",
    "# The test dataset is called 'filename.csv'\n",
    "# 'filename.csv' has measurements (Y) for different variables (X)\n",
    "# The first column (X1) has 2 groups (independent variables)\n",
    "# The second column (Y1) has measurements from 2 variables, to demonstrate t-tests\n",
    "# The third column (X2) has 3 groups (independent variables)\n",
    "# The fourth column (Y2) has measurements from 3 variables, to demonstrate ANOVAs\n",
    "# Columns 5 (X3) and 6 (Y3) have independent and dependent variables to demonstrate linear regression\n",
    "\n",
    "# How to use this code for your data:\n",
    "# -Create a .csv file in tall format\n",
    "# -Label the column with dependent variable Y (or Y1 if more than two independent variables)\n",
    "# -Label the column with independent variable X (or X1 if more than two dependent variables)\n",
    "# -Substitute \"~/filename.csv\" with the pathname to your data file\n",
    "# -Run cell (Shift + Enter)\n",
    "\n",
    "# Code for plotting the data with ggplot2 is provided at the end of the notebook"
   ]
  },
  {
   "cell_type": "code",
   "execution_count": 3,
   "metadata": {
    "collapsed": false
   },
   "outputs": [
    {
     "data": {
      "text/plain": [
       "\n",
       "\tF test to compare two variances\n",
       "\n",
       "data:  Y1 by X1\n",
       "F = 0.50192, num df = 12, denom df = 23, p-value = 0.2155\n",
       "alternative hypothesis: true ratio of variances is not equal to 1\n",
       "95 percent confidence interval:\n",
       " 0.1953053 1.5211167\n",
       "sample estimates:\n",
       "ratio of variances \n",
       "         0.5019233 \n"
      ]
     },
     "metadata": {},
     "output_type": "display_data"
    },
    {
     "data": {
      "text/html": [
       "<table>\n",
       "<thead><tr><th scope=col>X1</th><th scope=col>N</th><th scope=col>mean</th><th scope=col>sd</th><th scope=col>se</th></tr></thead>\n",
       "<tbody>\n",
       "\t<tr><td>        </td><td>18      </td><td>      NA</td><td>      NA</td><td>      NA</td></tr>\n",
       "\t<tr><td>Control </td><td>13      </td><td>4.600343</td><td>5.796878</td><td>1.607765</td></tr>\n",
       "\t<tr><td>Stim    </td><td>24      </td><td>5.749513</td><td>8.182302</td><td>1.670205</td></tr>\n",
       "</tbody>\n",
       "</table>\n"
      ],
      "text/latex": [
       "\\begin{tabular}{r|lllll}\n",
       " X1 & N & mean & sd & se\\\\\n",
       "\\hline\n",
       "\t          & 18       &       NA &       NA &       NA\\\\\n",
       "\t Control  & 13       & 4.600343 & 5.796878 & 1.607765\\\\\n",
       "\t Stim     & 24       & 5.749513 & 8.182302 & 1.670205\\\\\n",
       "\\end{tabular}\n"
      ],
      "text/markdown": [
       "\n",
       "X1 | N | mean | sd | se | \n",
       "|---|---|---|\n",
       "|          | 18       |       NA |       NA |       NA | \n",
       "| Control  | 13       | 4.600343 | 5.796878 | 1.607765 | \n",
       "| Stim     | 24       | 5.749513 | 8.182302 | 1.670205 | \n",
       "\n",
       "\n"
      ],
      "text/plain": [
       "  X1      N  mean     sd       se      \n",
       "1         18       NA       NA       NA\n",
       "2 Control 13 4.600343 5.796878 1.607765\n",
       "3 Stim    24 5.749513 8.182302 1.670205"
      ]
     },
     "metadata": {},
     "output_type": "display_data"
    }
   ],
   "source": [
    "# F test\n",
    "# Compare the variances of two populations\n",
    "\n",
    "# Load data (csv file in tall format)\n",
    "stats <- read.csv(\"filename.csv\")\n",
    "\n",
    "# Define variables \n",
    "attach(stats)\n",
    "\n",
    "# Run F test \n",
    "var.test(Y1 ~ X1, data = stats)\n",
    "\n",
    "# Calculate descriptive statistics\n",
    "library(plyr)\n",
    "\n",
    "cdata <- ddply(stats, c(\"X1\"), summarise,\n",
    "N    = length(Y1),\n",
    "mean = mean(Y1),\n",
    "sd   = sd(Y1),\n",
    "se   = sd / sqrt(N)\n",
    ")\n",
    "cdata\n",
    "\n",
    "detach(stats)"
   ]
  },
  {
   "cell_type": "code",
   "execution_count": 2,
   "metadata": {
    "collapsed": false
   },
   "outputs": [
    {
     "data": {
      "text/plain": [
       "\n",
       "\tShapiro-Wilk normality test\n",
       "\n",
       "data:  Y1\n",
       "W = 0.73557, p-value = 8.326e-07\n"
      ]
     },
     "metadata": {},
     "output_type": "display_data"
    },
    {
     "data": {
      "text/html": [
       "<table>\n",
       "<thead><tr><th scope=col>X1</th><th scope=col>N</th><th scope=col>mean</th><th scope=col>sd</th><th scope=col>se</th></tr></thead>\n",
       "<tbody>\n",
       "\t<tr><td>        </td><td>18      </td><td>      NA</td><td>      NA</td><td>      NA</td></tr>\n",
       "\t<tr><td>Control </td><td>13      </td><td>4.600343</td><td>5.796878</td><td>1.607765</td></tr>\n",
       "\t<tr><td>Stim    </td><td>24      </td><td>5.749513</td><td>8.182302</td><td>1.670205</td></tr>\n",
       "</tbody>\n",
       "</table>\n"
      ],
      "text/latex": [
       "\\begin{tabular}{r|lllll}\n",
       " X1 & N & mean & sd & se\\\\\n",
       "\\hline\n",
       "\t          & 18       &       NA &       NA &       NA\\\\\n",
       "\t Control  & 13       & 4.600343 & 5.796878 & 1.607765\\\\\n",
       "\t Stim     & 24       & 5.749513 & 8.182302 & 1.670205\\\\\n",
       "\\end{tabular}\n"
      ],
      "text/markdown": [
       "\n",
       "X1 | N | mean | sd | se | \n",
       "|---|---|---|\n",
       "|          | 18       |       NA |       NA |       NA | \n",
       "| Control  | 13       | 4.600343 | 5.796878 | 1.607765 | \n",
       "| Stim     | 24       | 5.749513 | 8.182302 | 1.670205 | \n",
       "\n",
       "\n"
      ],
      "text/plain": [
       "  X1      N  mean     sd       se      \n",
       "1         18       NA       NA       NA\n",
       "2 Control 13 4.600343 5.796878 1.607765\n",
       "3 Stim    24 5.749513 8.182302 1.670205"
      ]
     },
     "metadata": {},
     "output_type": "display_data"
    }
   ],
   "source": [
    "# Shapiro-Wilk test for normality\n",
    "\n",
    "\n",
    "# Load data (csv file in tall format)\n",
    "stats <- read.csv(\"filename.csv\")\n",
    "\n",
    "# Define variables \n",
    "attach(stats)\n",
    "\n",
    "# Run Shapiro-Wilk test \n",
    "# Note that this code tests normality of both groups combined\n",
    "# To test individual groups you must make separate columns and test individually\n",
    "\n",
    "shapiro.test(Y1) # p-value=1 normal / p-value=0 not normal\n",
    "\n",
    "\n",
    "# Calculate descriptive statistics\n",
    "library(plyr)\n",
    "\n",
    "cdata <- ddply(stats, c(\"X1\"), summarise,\n",
    "N    = length(Y1),\n",
    "mean = mean(Y1),\n",
    "sd   = sd(Y1),\n",
    "se   = sd / sqrt(N)\n",
    ")\n",
    "cdata\n",
    "\n",
    "detach(stats)"
   ]
  },
  {
   "cell_type": "code",
   "execution_count": 2,
   "metadata": {
    "collapsed": false
   },
   "outputs": [
    {
     "name": "stderr",
     "output_type": "stream",
     "text": [
      "Loading required package: splines\n",
      "Loading required package: RcmdrMisc\n",
      "Loading required package: car\n",
      "Loading required package: sandwich\n",
      "The Commander GUI is launched only in interactive sessions\n"
     ]
    },
    {
     "data": {
      "text/html": [
       "<table>\n",
       "<thead><tr><th></th><th scope=col>Df</th><th scope=col>F value</th><th scope=col>Pr(&gt;F)</th></tr></thead>\n",
       "<tbody>\n",
       "\t<tr><th scope=row>group</th><td> 1       </td><td>0.1571269</td><td>0.6942221</td></tr>\n",
       "\t<tr><th scope=row> </th><td>35       </td><td>       NA</td><td>       NA</td></tr>\n",
       "</tbody>\n",
       "</table>\n"
      ],
      "text/latex": [
       "\\begin{tabular}{r|lll}\n",
       "  & Df & F value & Pr(>F)\\\\\n",
       "\\hline\n",
       "\tgroup &  1        & 0.1571269 & 0.6942221\\\\\n",
       "\t  & 35        &        NA &        NA\\\\\n",
       "\\end{tabular}\n"
      ],
      "text/markdown": [
       "\n",
       "| <!--/--> | Df | F value | Pr(>F) | \n",
       "|---|---|\n",
       "| group |  1        | 0.1571269 | 0.6942221 | \n",
       "|   | 35        |        NA |        NA | \n",
       "\n",
       "\n"
      ],
      "text/plain": [
       "      Df F value   Pr(>F)   \n",
       "group  1 0.1571269 0.6942221\n",
       "      35        NA        NA"
      ]
     },
     "metadata": {},
     "output_type": "display_data"
    },
    {
     "data": {
      "text/html": [
       "<table>\n",
       "<thead><tr><th scope=col>X1</th><th scope=col>N</th><th scope=col>mean</th><th scope=col>sd</th><th scope=col>se</th></tr></thead>\n",
       "<tbody>\n",
       "\t<tr><td>        </td><td>18      </td><td>      NA</td><td>      NA</td><td>      NA</td></tr>\n",
       "\t<tr><td>Control </td><td>13      </td><td>4.600343</td><td>5.796878</td><td>1.607765</td></tr>\n",
       "\t<tr><td>Stim    </td><td>24      </td><td>5.749513</td><td>8.182302</td><td>1.670205</td></tr>\n",
       "</tbody>\n",
       "</table>\n"
      ],
      "text/latex": [
       "\\begin{tabular}{r|lllll}\n",
       " X1 & N & mean & sd & se\\\\\n",
       "\\hline\n",
       "\t          & 18       &       NA &       NA &       NA\\\\\n",
       "\t Control  & 13       & 4.600343 & 5.796878 & 1.607765\\\\\n",
       "\t Stim     & 24       & 5.749513 & 8.182302 & 1.670205\\\\\n",
       "\\end{tabular}\n"
      ],
      "text/markdown": [
       "\n",
       "X1 | N | mean | sd | se | \n",
       "|---|---|---|\n",
       "|          | 18       |       NA |       NA |       NA | \n",
       "| Control  | 13       | 4.600343 | 5.796878 | 1.607765 | \n",
       "| Stim     | 24       | 5.749513 | 8.182302 | 1.670205 | \n",
       "\n",
       "\n"
      ],
      "text/plain": [
       "  X1      N  mean     sd       se      \n",
       "1         18       NA       NA       NA\n",
       "2 Control 13 4.600343 5.796878 1.607765\n",
       "3 Stim    24 5.749513 8.182302 1.670205"
      ]
     },
     "metadata": {},
     "output_type": "display_data"
    }
   ],
   "source": [
    "# Levene's test \n",
    "# Compare the variances of k samples, where k can be more than two samples. \n",
    "# It’s an alternative to the Bartlett’s test that is less sensitive to departures from normality.\n",
    "\n",
    "library(Rcmdr)\n",
    "\n",
    "# Load data (csv file in tall format)\n",
    "stats <- read.csv(\"filename.csv\")\n",
    "\n",
    "# Define variables \n",
    "attach(stats)\n",
    "\n",
    "# Run Levene's test\n",
    "leveneTest(Y1, X1)\n",
    "\n",
    "# Calculate descriptive statistics\n",
    "library(plyr)\n",
    "\n",
    "cdata <- ddply(stats, c(\"X1\"), summarise,\n",
    "N    = length(Y1),\n",
    "mean = mean(Y1),\n",
    "sd   = sd(Y1),\n",
    "se   = sd / sqrt(N)\n",
    ")\n",
    "cdata\n",
    "\n",
    "detach(stats)"
   ]
  },
  {
   "cell_type": "code",
   "execution_count": 1,
   "metadata": {
    "collapsed": false
   },
   "outputs": [
    {
     "data": {
      "text/plain": [
       "\n",
       "\tWilcoxon rank sum test\n",
       "\n",
       "data:  Y1 by X1\n",
       "W = 141, p-value = 0.6489\n",
       "alternative hypothesis: true location shift is not equal to 0\n"
      ]
     },
     "metadata": {},
     "output_type": "display_data"
    },
    {
     "data": {
      "text/html": [
       "<table>\n",
       "<thead><tr><th scope=col>X1</th><th scope=col>N</th><th scope=col>mean</th><th scope=col>sd</th><th scope=col>se</th></tr></thead>\n",
       "<tbody>\n",
       "\t<tr><td>        </td><td>18      </td><td>      NA</td><td>      NA</td><td>      NA</td></tr>\n",
       "\t<tr><td>Control </td><td>13      </td><td>4.600343</td><td>5.796878</td><td>1.607765</td></tr>\n",
       "\t<tr><td>Stim    </td><td>24      </td><td>5.749513</td><td>8.182302</td><td>1.670205</td></tr>\n",
       "</tbody>\n",
       "</table>\n"
      ],
      "text/latex": [
       "\\begin{tabular}{r|lllll}\n",
       " X1 & N & mean & sd & se\\\\\n",
       "\\hline\n",
       "\t          & 18       &       NA &       NA &       NA\\\\\n",
       "\t Control  & 13       & 4.600343 & 5.796878 & 1.607765\\\\\n",
       "\t Stim     & 24       & 5.749513 & 8.182302 & 1.670205\\\\\n",
       "\\end{tabular}\n"
      ],
      "text/markdown": [
       "\n",
       "X1 | N | mean | sd | se | \n",
       "|---|---|---|\n",
       "|          | 18       |       NA |       NA |       NA | \n",
       "| Control  | 13       | 4.600343 | 5.796878 | 1.607765 | \n",
       "| Stim     | 24       | 5.749513 | 8.182302 | 1.670205 | \n",
       "\n",
       "\n"
      ],
      "text/plain": [
       "  X1      N  mean     sd       se      \n",
       "1         18       NA       NA       NA\n",
       "2 Control 13 4.600343 5.796878 1.607765\n",
       "3 Stim    24 5.749513 8.182302 1.670205"
      ]
     },
     "metadata": {},
     "output_type": "display_data"
    }
   ],
   "source": [
    "# Wilcox rank sum test\n",
    "# Nonparametric alternative to t-test\n",
    "\n",
    "# Load data (csv file in tall format)\n",
    "stats <- read.csv(\"filename.csv\")\n",
    "\n",
    "# Define variables \n",
    "attach(stats)\n",
    "\n",
    "# Run Wilcox rank sum test \n",
    "wilcox.test(Y1 ~ X1, data=stats)\n",
    "\n",
    "# Calculate descriptive statistics\n",
    "library(plyr)\n",
    "\n",
    "cdata <- ddply(stats, c(\"X1\"), summarise,\n",
    "N    = length(Y1),\n",
    "mean = mean(Y1),\n",
    "sd   = sd(Y1),\n",
    "se   = sd / sqrt(N)\n",
    ")\n",
    "cdata\n",
    "\n",
    "detach(stats)"
   ]
  },
  {
   "cell_type": "code",
   "execution_count": 4,
   "metadata": {
    "collapsed": false
   },
   "outputs": [
    {
     "data": {
      "text/plain": [
       "\n",
       "\tKruskal-Wallis rank sum test\n",
       "\n",
       "data:  Y1 by X1\n",
       "Kruskal-Wallis chi-squared = 0.22773, df = 1, p-value = 0.6332\n"
      ]
     },
     "metadata": {},
     "output_type": "display_data"
    },
    {
     "data": {
      "text/html": [
       "<table>\n",
       "<thead><tr><th scope=col>X2</th><th scope=col>N</th><th scope=col>mean</th><th scope=col>sd</th><th scope=col>se</th></tr></thead>\n",
       "<tbody>\n",
       "\t<tr><td>Control  </td><td>13       </td><td>4.600343 </td><td>5.7968781</td><td>1.6077647</td></tr>\n",
       "\t<tr><td>Stim     </td><td>24       </td><td>5.749513 </td><td>8.1823021</td><td>1.6702054</td></tr>\n",
       "\t<tr><td>Stim_Drug</td><td>18       </td><td>2.024242 </td><td>0.7606184</td><td>0.1792795</td></tr>\n",
       "</tbody>\n",
       "</table>\n"
      ],
      "text/latex": [
       "\\begin{tabular}{r|lllll}\n",
       " X2 & N & mean & sd & se\\\\\n",
       "\\hline\n",
       "\t Control   & 13        & 4.600343  & 5.7968781 & 1.6077647\\\\\n",
       "\t Stim      & 24        & 5.749513  & 8.1823021 & 1.6702054\\\\\n",
       "\t Stim\\_Drug & 18          & 2.024242    & 0.7606184   & 0.1792795  \\\\\n",
       "\\end{tabular}\n"
      ],
      "text/markdown": [
       "\n",
       "X2 | N | mean | sd | se | \n",
       "|---|---|---|\n",
       "| Control   | 13        | 4.600343  | 5.7968781 | 1.6077647 | \n",
       "| Stim      | 24        | 5.749513  | 8.1823021 | 1.6702054 | \n",
       "| Stim_Drug | 18        | 2.024242  | 0.7606184 | 0.1792795 | \n",
       "\n",
       "\n"
      ],
      "text/plain": [
       "  X2        N  mean     sd        se       \n",
       "1 Control   13 4.600343 5.7968781 1.6077647\n",
       "2 Stim      24 5.749513 8.1823021 1.6702054\n",
       "3 Stim_Drug 18 2.024242 0.7606184 0.1792795"
      ]
     },
     "metadata": {},
     "output_type": "display_data"
    }
   ],
   "source": [
    "# Kruskal-Wallis test\n",
    "# Non-parametric alternative to ANOVA\n",
    "\n",
    "# Load data (csv file in tall format)\n",
    "stats <- read.csv(\"filename.csv\")\n",
    "\n",
    "# Define variables \n",
    "attach(stats)\n",
    "\n",
    "# Run Krusal-Wallis test\n",
    "kruskal.test(Y1 ~ X1, data=stats)\n",
    "\n",
    "# Calculate descriptive statistics\n",
    "library(plyr)\n",
    "\n",
    "cdata <- ddply(stats, c(\"X2\"), summarise,\n",
    "N    = length(Y2),\n",
    "mean = mean(Y2),\n",
    "sd   = sd(Y2),\n",
    "se   = sd / sqrt(N)\n",
    ")\n",
    "cdata\n",
    "\n",
    "detach(stats)"
   ]
  },
  {
   "cell_type": "code",
   "execution_count": 3,
   "metadata": {
    "collapsed": false
   },
   "outputs": [
    {
     "name": "stderr",
     "output_type": "stream",
     "text": [
      "## FSA v0.8.13. See citation('FSA') if used in publication.\n",
      "## Run fishR() for related website and fishR('IFAR') for related book.\n",
      "Dunn (1964) Kruskal-Wallis multiple comparison\n",
      "  p-values adjusted with the Bonferroni method.\n",
      "\n"
     ]
    },
    {
     "data": {
      "text/plain": [
       "           Comparison          Z   P.unadj P.adj\n",
       "1      Control - Stim -0.3654162 0.7148008     1\n",
       "2 Control - Stim_Drug -0.2242580 0.8225566     1\n",
       "3    Stim - Stim_Drug  0.1417980 0.8872395     1"
      ]
     },
     "metadata": {},
     "output_type": "display_data"
    },
    {
     "data": {
      "text/html": [
       "<table>\n",
       "<thead><tr><th scope=col>X2</th><th scope=col>N</th><th scope=col>mean</th><th scope=col>sd</th><th scope=col>se</th></tr></thead>\n",
       "<tbody>\n",
       "\t<tr><td>Control  </td><td>13       </td><td>4.600343 </td><td>5.7968781</td><td>1.6077647</td></tr>\n",
       "\t<tr><td>Stim     </td><td>24       </td><td>5.749513 </td><td>8.1823021</td><td>1.6702054</td></tr>\n",
       "\t<tr><td>Stim_Drug</td><td>18       </td><td>2.024242 </td><td>0.7606184</td><td>0.1792795</td></tr>\n",
       "</tbody>\n",
       "</table>\n"
      ],
      "text/latex": [
       "\\begin{tabular}{r|lllll}\n",
       " X2 & N & mean & sd & se\\\\\n",
       "\\hline\n",
       "\t Control   & 13        & 4.600343  & 5.7968781 & 1.6077647\\\\\n",
       "\t Stim      & 24        & 5.749513  & 8.1823021 & 1.6702054\\\\\n",
       "\t Stim\\_Drug & 18          & 2.024242    & 0.7606184   & 0.1792795  \\\\\n",
       "\\end{tabular}\n"
      ],
      "text/markdown": [
       "\n",
       "X2 | N | mean | sd | se | \n",
       "|---|---|---|\n",
       "| Control   | 13        | 4.600343  | 5.7968781 | 1.6077647 | \n",
       "| Stim      | 24        | 5.749513  | 8.1823021 | 1.6702054 | \n",
       "| Stim_Drug | 18        | 2.024242  | 0.7606184 | 0.1792795 | \n",
       "\n",
       "\n"
      ],
      "text/plain": [
       "  X2        N  mean     sd        se       \n",
       "1 Control   13 4.600343 5.7968781 1.6077647\n",
       "2 Stim      24 5.749513 8.1823021 1.6702054\n",
       "3 Stim_Drug 18 2.024242 0.7606184 0.1792795"
      ]
     },
     "metadata": {},
     "output_type": "display_data"
    }
   ],
   "source": [
    "# Dunn posthoc test\n",
    "# For multiple comparisons of the Kruskal-Wallis test\n",
    "\n",
    "library(FSA)\n",
    "# https://cran.r-project.org/web/packages/dunn.test/dunn.test.pdf\n",
    "\n",
    "# Load data (csv file in tall format)\n",
    "stats <- read.csv(\"filename.csv\")\n",
    "\n",
    "# Define variables \n",
    "attach(stats)\n",
    "\n",
    "dunnTest(Y2 ~ X2,\n",
    "              data=stats,\n",
    "              method=\"bonferroni\")    # Can adjust p-values; \n",
    "                              # See ?p.adjust for options \n",
    "\n",
    "# Calculate descriptive statistics\n",
    "library(plyr)\n",
    "\n",
    "cdata <- ddply(stats, c(\"X2\"), summarise,\n",
    "N    = length(Y2),\n",
    "mean = mean(Y2),\n",
    "sd   = sd(Y2),\n",
    "se   = sd / sqrt(N)\n",
    ")\n",
    "cdata\n",
    "\n",
    "detach(stats)"
   ]
  },
  {
   "cell_type": "code",
   "execution_count": 2,
   "metadata": {
    "collapsed": false
   },
   "outputs": [
    {
     "data": {
      "text/plain": [
       "\n",
       "\tWelch Two Sample t-test\n",
       "\n",
       "data:  Y1 by X1\n",
       "t = -0.4957, df = 32.269, p-value = 0.6235\n",
       "alternative hypothesis: true difference in means is not equal to 0\n",
       "95 percent confidence interval:\n",
       " -5.869843  3.571502\n",
       "sample estimates:\n",
       "mean in group Control    mean in group Stim \n",
       "             4.600343              5.749513 \n"
      ]
     },
     "metadata": {},
     "output_type": "display_data"
    },
    {
     "data": {
      "text/html": [
       "<table>\n",
       "<thead><tr><th scope=col>X1</th><th scope=col>N</th><th scope=col>mean</th><th scope=col>sd</th><th scope=col>se</th></tr></thead>\n",
       "<tbody>\n",
       "\t<tr><td>        </td><td>18      </td><td>      NA</td><td>      NA</td><td>      NA</td></tr>\n",
       "\t<tr><td>Control </td><td>13      </td><td>4.600343</td><td>5.796878</td><td>1.607765</td></tr>\n",
       "\t<tr><td>Stim    </td><td>24      </td><td>5.749513</td><td>8.182302</td><td>1.670205</td></tr>\n",
       "</tbody>\n",
       "</table>\n"
      ],
      "text/latex": [
       "\\begin{tabular}{r|lllll}\n",
       " X1 & N & mean & sd & se\\\\\n",
       "\\hline\n",
       "\t          & 18       &       NA &       NA &       NA\\\\\n",
       "\t Control  & 13       & 4.600343 & 5.796878 & 1.607765\\\\\n",
       "\t Stim     & 24       & 5.749513 & 8.182302 & 1.670205\\\\\n",
       "\\end{tabular}\n"
      ],
      "text/markdown": [
       "\n",
       "X1 | N | mean | sd | se | \n",
       "|---|---|---|\n",
       "|          | 18       |       NA |       NA |       NA | \n",
       "| Control  | 13       | 4.600343 | 5.796878 | 1.607765 | \n",
       "| Stim     | 24       | 5.749513 | 8.182302 | 1.670205 | \n",
       "\n",
       "\n"
      ],
      "text/plain": [
       "  X1      N  mean     sd       se      \n",
       "1         18       NA       NA       NA\n",
       "2 Control 13 4.600343 5.796878 1.607765\n",
       "3 Stim    24 5.749513 8.182302 1.670205"
      ]
     },
     "metadata": {},
     "output_type": "display_data"
    }
   ],
   "source": [
    "# Students t-test\n",
    "\n",
    "# Load data (csv file in tall format)\n",
    "stats <- read.csv(\"filename.csv\")\n",
    "\n",
    "# Define variables \n",
    "attach(stats)\n",
    "\n",
    "# Run t-Test\n",
    "t.test(Y1 ~ X1, stats)\n",
    "\n",
    "# Calculate descriptive statistics\n",
    "library(plyr)\n",
    "cdata <- ddply(stats, c(\"X1\"), summarise,\n",
    "N    = length(Y1),\n",
    "mean = mean(Y1),\n",
    "sd   = sd(Y1),\n",
    "se   = sd / sqrt(N)\n",
    ")\n",
    "cdata\n",
    "\n",
    "detach(stats)"
   ]
  },
  {
   "cell_type": "code",
   "execution_count": 1,
   "metadata": {
    "collapsed": false
   },
   "outputs": [
    {
     "data": {
      "text/plain": [
       "Call:\n",
       "   aov(formula = Y2 ~ X2)\n",
       "\n",
       "Terms:\n",
       "                       X2 Residuals\n",
       "Sum of Squares   144.7284 1952.9323\n",
       "Deg. of Freedom         2        52\n",
       "\n",
       "Residual standard error: 6.128327\n",
       "Estimated effects may be unbalanced"
      ]
     },
     "metadata": {},
     "output_type": "display_data"
    },
    {
     "data": {
      "text/plain": [
       "            Df Sum Sq Mean Sq F value Pr(>F)\n",
       "X2           2  144.7   72.36   1.927  0.156\n",
       "Residuals   52 1952.9   37.56               "
      ]
     },
     "metadata": {},
     "output_type": "display_data"
    },
    {
     "data": {
      "text/plain": [
       "  Tukey multiple comparisons of means\n",
       "    95% family-wise confidence level\n",
       "\n",
       "Fit: aov(formula = Y2 ~ X2)\n",
       "\n",
       "$X2\n",
       "                       diff       lwr      upr     p adj\n",
       "Stim-Control       1.149170 -3.942379 6.240719 0.8497122\n",
       "Stim_Drug-Control -2.576101 -7.957551 2.805349 0.4852147\n",
       "Stim_Drug-Stim    -3.725271 -8.335359 0.884816 0.1351965\n"
      ]
     },
     "metadata": {},
     "output_type": "display_data"
    },
    {
     "data": {
      "text/html": [
       "<table>\n",
       "<thead><tr><th scope=col>X2</th><th scope=col>N</th><th scope=col>mean</th><th scope=col>sd</th><th scope=col>se</th></tr></thead>\n",
       "<tbody>\n",
       "\t<tr><td>Control  </td><td>13       </td><td>4.600343 </td><td>5.7968781</td><td>1.6077647</td></tr>\n",
       "\t<tr><td>Stim     </td><td>24       </td><td>5.749513 </td><td>8.1823021</td><td>1.6702054</td></tr>\n",
       "\t<tr><td>Stim_Drug</td><td>18       </td><td>2.024242 </td><td>0.7606184</td><td>0.1792795</td></tr>\n",
       "</tbody>\n",
       "</table>\n"
      ],
      "text/latex": [
       "\\begin{tabular}{r|lllll}\n",
       " X2 & N & mean & sd & se\\\\\n",
       "\\hline\n",
       "\t Control   & 13        & 4.600343  & 5.7968781 & 1.6077647\\\\\n",
       "\t Stim      & 24        & 5.749513  & 8.1823021 & 1.6702054\\\\\n",
       "\t Stim\\_Drug & 18          & 2.024242    & 0.7606184   & 0.1792795  \\\\\n",
       "\\end{tabular}\n"
      ],
      "text/markdown": [
       "\n",
       "X2 | N | mean | sd | se | \n",
       "|---|---|---|\n",
       "| Control   | 13        | 4.600343  | 5.7968781 | 1.6077647 | \n",
       "| Stim      | 24        | 5.749513  | 8.1823021 | 1.6702054 | \n",
       "| Stim_Drug | 18        | 2.024242  | 0.7606184 | 0.1792795 | \n",
       "\n",
       "\n"
      ],
      "text/plain": [
       "  X2        N  mean     sd        se       \n",
       "1 Control   13 4.600343 5.7968781 1.6077647\n",
       "2 Stim      24 5.749513 8.1823021 1.6702054\n",
       "3 Stim_Drug 18 2.024242 0.7606184 0.1792795"
      ]
     },
     "metadata": {},
     "output_type": "display_data"
    }
   ],
   "source": [
    "# One-way ANOVA with Tukey Post-hoc test\n",
    "\n",
    "# Load data (csv file in tall format)\n",
    "stats <- read.csv(\"filename.csv\")\n",
    "\n",
    "# Define variables\n",
    "attach(stats)\n",
    "\n",
    "# Run one-way ANOVA on columns ()\n",
    "ANOVA.aov = aov(Y2 ~ X2)\n",
    "\n",
    "# View results from ANOVA\n",
    "ANOVA.aov\n",
    "\n",
    "# View more results from ANOVA\n",
    "summary(ANOVA.aov)\n",
    "\n",
    "# Perform posthoc (Tukey)\n",
    "TukeyHSD(ANOVA.aov)\n",
    "\n",
    "# Calculate descriptive statistics\n",
    "library(plyr)\n",
    "\n",
    "cdata <- ddply(stats, c(\"X2\"), summarise,\n",
    "N    = length(Y2),\n",
    "mean = mean(Y2),\n",
    "sd   = sd(Y2),\n",
    "se   = sd / sqrt(N)\n",
    ")\n",
    "cdata\n",
    "\n",
    "detach(stats)"
   ]
  },
  {
   "cell_type": "code",
   "execution_count": 8,
   "metadata": {
    "collapsed": false
   },
   "outputs": [
    {
     "data": {
      "text/html": [
       "<table>\n",
       "<thead><tr><th scope=col>X2</th><th scope=col>N</th><th scope=col>mean</th><th scope=col>sd</th><th scope=col>se</th></tr></thead>\n",
       "<tbody>\n",
       "\t<tr><td>Control  </td><td>13       </td><td>4.600343 </td><td>5.7968781</td><td>1.6077647</td></tr>\n",
       "\t<tr><td>Stim     </td><td>24       </td><td>5.749513 </td><td>8.1823021</td><td>1.6702054</td></tr>\n",
       "\t<tr><td>Stim+Drug</td><td>18       </td><td>2.024242 </td><td>0.7606184</td><td>0.1792795</td></tr>\n",
       "</tbody>\n",
       "</table>\n"
      ],
      "text/latex": [
       "\\begin{tabular}{r|lllll}\n",
       " X2 & N & mean & sd & se\\\\\n",
       "\\hline\n",
       "\t Control   & 13        & 4.600343  & 5.7968781 & 1.6077647\\\\\n",
       "\t Stim      & 24        & 5.749513  & 8.1823021 & 1.6702054\\\\\n",
       "\t Stim+Drug & 18        & 2.024242  & 0.7606184 & 0.1792795\\\\\n",
       "\\end{tabular}\n"
      ],
      "text/markdown": [
       "\n",
       "X2 | N | mean | sd | se | \n",
       "|---|---|---|\n",
       "| Control   | 13        | 4.600343  | 5.7968781 | 1.6077647 | \n",
       "| Stim      | 24        | 5.749513  | 8.1823021 | 1.6702054 | \n",
       "| Stim+Drug | 18        | 2.024242  | 0.7606184 | 0.1792795 | \n",
       "\n",
       "\n"
      ],
      "text/plain": [
       "  X2        N  mean     sd        se       \n",
       "1 Control   13 4.600343 5.7968781 1.6077647\n",
       "2 Stim      24 5.749513 8.1823021 1.6702054\n",
       "3 Stim+Drug 18 2.024242 0.7606184 0.1792795"
      ]
     },
     "metadata": {},
     "output_type": "display_data"
    },
    {
     "name": "stderr",
     "output_type": "stream",
     "text": [
      "Warning message:\n",
      "“Ignoring unknown parameters: binwidth, bins, pad”"
     ]
    },
    {
     "data": {},
     "metadata": {},
     "output_type": "display_data"
    },
    {
     "data": {
      "image/png": "[encoded data removed]",
      "text/plain": [
       "plot without title"
      ]
     },
     "metadata": {},
     "output_type": "display_data"
    }
   ],
   "source": [
    "# Plot data as histogram with mean +/- sem \n",
    "\n",
    "library(ggplot2)\n",
    "library(repr)\n",
    "\n",
    "\n",
    "# Load data (csv file in tall format)\n",
    "stats <- read.csv(\"filename.csv\")\n",
    "\n",
    "# Define variables\n",
    "attach(stats)\n",
    "\n",
    "# Adjust plot size\n",
    "options(repr.plot.width=2, repr.plot.height=3)\n",
    "\n",
    "# Calculate descriptive statistics\n",
    "library(plyr)\n",
    "\n",
    "cdata <- ddply(stats, c(\"X2\"), summarise,\n",
    "N    = length(Y2),\n",
    "mean = mean(Y2),\n",
    "sd   = sd(Y2),\n",
    "se   = sd / sqrt(N)\n",
    ")\n",
    "cdata\n",
    "\n",
    "# Generate histogram\n",
    "ggplot(cdata, aes(x=X2, y=mean, group=1, width = 0.5)) +\n",
    "    geom_histogram(fill=\"#0072B2\", stat=\"identity\")+\n",
    "    geom_errorbar(aes(ymin=mean-se, ymax=mean+se),\n",
    "        size=.5,    # Thinner lines\n",
    "        width=.2,\n",
    "        position=position_dodge(.9)) +\n",
    "    ylim(0,10) +   \n",
    "    #xlab(\"Condition\") +\n",
    "    ylab(\"Measurement\") +\n",
    "    #ggtitle(\"The Effect of Vitamin C on\\nTooth Growth in Guinea Pigs\") +\n",
    "    #scale_y_continuous(breaks=0:20*4) +\n",
    "    #theme_bw() +\n",
    "    theme(axis.text.x=element_text(size=12, angle=90, hjust=(1), vjust=(0.5), colour=\"black\", face=\"bold\"),\n",
    "           axis.text.y=element_text(size=12, colour=\"black\", face=\"bold\"),\n",
    "           axis.title=element_text(size=14, face=\"bold\"),\n",
    "           axis.title.x=element_blank(),\n",
    "           axis.ticks.x=element_blank())+\n",
    "    theme(panel.grid.major = element_blank(), panel.grid.minor = element_blank(),\n",
    "    panel.background = element_blank(), axis.line = element_line(colour = \"black\"))+\n",
    "    scale_x_discrete(limits=c(\"Control\", \"Stim\", \"Stim+Drug\"))\n",
    "\n",
    "detach(stats)"
   ]
  },
  {
   "cell_type": "code",
   "execution_count": 1,
   "metadata": {
    "collapsed": false
   },
   "outputs": [
    {
     "data": {
      "text/html": [
       "<table>\n",
       "<thead><tr><th scope=col>X2</th><th scope=col>N</th><th scope=col>mean</th><th scope=col>sd</th><th scope=col>se</th></tr></thead>\n",
       "<tbody>\n",
       "\t<tr><td>Control  </td><td>13       </td><td>4.600343 </td><td>5.7968781</td><td>1.6077647</td></tr>\n",
       "\t<tr><td>Stim     </td><td>24       </td><td>5.749513 </td><td>8.1823021</td><td>1.6702054</td></tr>\n",
       "\t<tr><td>Stim+Drug</td><td>18       </td><td>2.024242 </td><td>0.7606184</td><td>0.1792795</td></tr>\n",
       "</tbody>\n",
       "</table>\n"
      ],
      "text/latex": [
       "\\begin{tabular}{r|lllll}\n",
       " X2 & N & mean & sd & se\\\\\n",
       "\\hline\n",
       "\t Control   & 13        & 4.600343  & 5.7968781 & 1.6077647\\\\\n",
       "\t Stim      & 24        & 5.749513  & 8.1823021 & 1.6702054\\\\\n",
       "\t Stim+Drug & 18        & 2.024242  & 0.7606184 & 0.1792795\\\\\n",
       "\\end{tabular}\n"
      ],
      "text/markdown": [
       "\n",
       "X2 | N | mean | sd | se | \n",
       "|---|---|---|\n",
       "| Control   | 13        | 4.600343  | 5.7968781 | 1.6077647 | \n",
       "| Stim      | 24        | 5.749513  | 8.1823021 | 1.6702054 | \n",
       "| Stim+Drug | 18        | 2.024242  | 0.7606184 | 0.1792795 | \n",
       "\n",
       "\n"
      ],
      "text/plain": [
       "  X2        N  mean     sd        se       \n",
       "1 Control   13 4.600343 5.7968781 1.6077647\n",
       "2 Stim      24 5.749513 8.1823021 1.6702054\n",
       "3 Stim+Drug 18 2.024242 0.7606184 0.1792795"
      ]
     },
     "metadata": {},
     "output_type": "display_data"
    },
    {
     "data": {},
     "metadata": {},
     "output_type": "display_data"
    },
    {
     "data": {
      "image/png": "[encoded data removed]",
      "text/plain": [
       "plot without title"
      ]
     },
     "metadata": {},
     "output_type": "display_data",
     "source": "R display func"
    }
   ],
   "source": [
    "# Plot every point in the data with mean +/- sem \n",
    "\n",
    "library(ggplot2)\n",
    "library(repr)\n",
    "\n",
    "\n",
    "# Load data (csv file in tall format)\n",
    "stats <- read.csv(\"filename.csv\")\n",
    "\n",
    "# Define variables\n",
    "attach(stats)\n",
    "\n",
    "# Adjust plot size\n",
    "options(repr.plot.width=2, repr.plot.height=3)\n",
    "\n",
    "# Calculate descriptive statistics\n",
    "library(plyr)\n",
    "\n",
    "cdata <- ddply(stats, c(\"X2\"), summarise,\n",
    "N    = length(Y2),\n",
    "mean = mean(Y2),\n",
    "sd   = sd(Y2),\n",
    "se   = sd / sqrt(N)\n",
    ")\n",
    "cdata\n",
    "\n",
    "# Generate graph\n",
    "p <- ggplot(stats, aes(X2,Y2)) + \n",
    "    geom_point(position = position_jitter(width = 0.2), shape=1, stroke=.5) +\n",
    "    stat_summary(fun.y = mean, fun.ymin = mean,fun.ymax = mean, geom = \"errorbar\", width = .5, colour = \"red\") + \n",
    "    stat_summary(fun.data = mean_se, geom = \"errorbar\", width = .25, colour = \"red\") +\n",
    "    #stat_summary(fun.data = median.quartile, geom = \"errorbar\", width = .25, colour = \"red\") +\n",
    "    #stat_summary(fun.y = mean, fun.ymin = mean, fun.ymax = mean, geom = \"errorbar\", width = 0.5, colour = \"red\") +\n",
    "    theme(panel.grid.major = element_blank(), panel.grid.minor = element_blank(),panel.background = element_blank(), axis.line = element_line(colour = \"black\")) +\n",
    "    theme(axis.text.x = element_text(size=12, colour = \"black\", face=\"bold\", vjust=(0.5), hjust=(1), angle=90),\n",
    "          axis.text.y = element_text(colour = \"black\", face=\"bold\"),\n",
    "          axis.title.x=element_blank(),\n",
    "          axis.title.y=element_text(size=12, face=\"bold\"),\n",
    "          axis.ticks.x=element_blank()) +\n",
    "    ylab(\"Measurement\") +\n",
    "    #ylab(expression(bold(D~(mu*m^2/s)))) + \n",
    "    #ylim(0.0, 1.5)+\n",
    "    scale_x_discrete(limits=c(\"Control\", \"Stim\", \"Stim+Drug\"))\n",
    "p\n",
    "\n",
    "detach(stats)"
   ]
  },
  {
   "cell_type": "code",
   "execution_count": 1,
   "metadata": {},
   "outputs": [
    {
     "data": {
      "text/plain": [
       "\n",
       "Call:\n",
       "lm(formula = Y3 ~ X3, data = stats)\n",
       "\n",
       "Residuals:\n",
       "    Min      1Q  Median      3Q     Max \n",
       "-1560.8  -700.0   176.1   646.7  1923.0 \n",
       "\n",
       "Coefficients:\n",
       "            Estimate Std. Error t value Pr(>|t|)    \n",
       "(Intercept) 808.9056   570.5929   1.418    0.194    \n",
       "X3           10.9212     0.2144  50.942 2.44e-11 ***\n",
       "---\n",
       "Signif. codes:  0 ‘***’ 0.001 ‘**’ 0.01 ‘*’ 0.05 ‘.’ 0.1 ‘ ’ 1\n",
       "\n",
       "Residual standard error: 1153 on 8 degrees of freedom\n",
       "  (45 observations deleted due to missingness)\n",
       "Multiple R-squared:  0.9969,\tAdjusted R-squared:  0.9965 \n",
       "F-statistic:  2595 on 1 and 8 DF,  p-value: 2.442e-11\n"
      ]
     },
     "metadata": {},
     "output_type": "display_data"
    },
    {
     "data": {
      "text/html": [
       "<dl class=dl-horizontal>\n",
       "\t<dt>(Intercept)</dt>\n",
       "\t\t<dd>808.905574112822</dd>\n",
       "\t<dt>X3</dt>\n",
       "\t\t<dd>10.9211673181888</dd>\n",
       "</dl>\n"
      ],
      "text/latex": [
       "\\begin{description*}\n",
       "\\item[(Intercept)] 808.905574112822\n",
       "\\item[X3] 10.9211673181888\n",
       "\\end{description*}\n"
      ],
      "text/markdown": [
       "(Intercept)\n",
       ":   808.905574112822X3\n",
       ":   10.9211673181888\n",
       "\n"
      ],
      "text/plain": [
       "(Intercept)          X3 \n",
       "  808.90557    10.92117 "
      ]
     },
     "metadata": {},
     "output_type": "display_data"
    },
    {
     "name": "stderr",
     "output_type": "stream",
     "text": [
      "Warning message:\n",
      "“Removed 45 rows containing non-finite values (stat_smooth).”Warning message:\n",
      "“Removed 45 rows containing missing values (geom_point).”"
     ]
    },
    {
     "data": {},
     "metadata": {},
     "output_type": "display_data"
    },
    {
     "ename": "ERROR",
     "evalue": "Error in detach(counts): invalid 'name' argument\n",
     "execution_count": 1,
     "output_type": "error",
     "traceback": [
      "Error in detach(counts): invalid 'name' argument\nTraceback:\n",
      "1. detach(counts)",
      "2. stop(\"invalid 'name' argument\")"
     ]
    },
    {
     "data": {
      "image/png": "[encoded data removed]",
      "text/plain": [
       "plot without title"
      ]
     },
     "metadata": {},
     "output_type": "display_data",
     "source": "R display func"
    }
   ],
   "source": [
    "# Linear regression analysis\n",
    "# Created 21 June 2018\n",
    "#\n",
    "\n",
    "# Load data (tall format, .csv)\n",
    "stats <- read.csv(\"filename.csv\")\n",
    "attach(stats)\n",
    "\n",
    "# Linear Regression Example \n",
    "fit <- lm(Y3 ~ X3, data=stats)\n",
    "summary(fit) # show results\n",
    "coef(fit) \n",
    "\n",
    "# Plot the data\n",
    "library(ggplot2)\n",
    "options(repr.plot.width=2.5, repr.plot.height=2)\n",
    "\n",
    "ggplot(stats, aes(X3,Y3)) +\n",
    "        geom_point(data=stats,  col=\"#0072B2\", size=1) +\n",
    "        stat_smooth(method = \"lm\", col = \"red\", size = 0.2)+\n",
    "        #geom_line(data=spectra, aes(pos,STED), col=\"#D55E00\", size=1) +\n",
    "        theme_bw() +\n",
    "        theme(panel.border = element_blank(), panel.grid.major = element_blank(),\n",
    "            panel.grid.minor = element_blank(), axis.line = element_line(colour = \"black\"))+\n",
    "        theme(axis.text.x = element_text(colour = \"black\", face=\"bold\"),\n",
    "          axis.text.y = element_text(colour = \"black\", face=\"bold\"),\n",
    "          axis.title.x=element_text(colour = \"black\", face=\"bold\"),\n",
    "          axis.title.y=element_text(face=\"bold\")) +\n",
    "        theme(legend.position=\"none\")+\n",
    "        xlab(\"independent variable\") +\n",
    "        ylab(\"dependent variable\")\n",
    "\n",
    "detach(counts)"
   ]
  },
  {
   "cell_type": "code",
   "execution_count": null,
   "metadata": {},
   "outputs": [],
   "source": []
  }
 ],
 "metadata": {
  "anaconda-cloud": {},
  "kernelspec": {
   "display_name": "R",
   "language": "R",
   "name": "ir"
  },
  "language_info": {
   "codemirror_mode": "r",
   "file_extension": ".r",
   "mimetype": "text/x-r-source",
   "name": "R",
   "pygments_lexer": "r",
   "version": "3.3.2"
  }
 },
 "nbformat": 4,
 "nbformat_minor": 2
}
